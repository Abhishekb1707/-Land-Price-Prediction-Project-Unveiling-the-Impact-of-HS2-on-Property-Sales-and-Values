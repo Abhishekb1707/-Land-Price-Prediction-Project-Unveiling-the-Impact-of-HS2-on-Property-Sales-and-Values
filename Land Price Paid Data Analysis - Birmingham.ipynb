{
 "cells": [
  {
   "cell_type": "markdown",
   "id": "f8880284",
   "metadata": {},
   "source": [
    "## LAND PRICE PAID DATA ANALYSIS  \n",
    "\n",
    "\n",
    "##### `Introduction :`\n",
    "Price Paid Data tracks property sales in England and Wales submitted to HM Land Registry for registration. Price Paid Data is based on the raw data released each month.\n",
    "\n",
    "The amount of time between the England and Wales that are sold for sale of a property and the registration of this information with HM Land Registry varies. It typically ranges between 2 weeks and 2 months. Data for the two most recent months is therefore incomplete and does not give an indication of final monthly volumes. Occasionally the interval between sale and registration is longer than two months. The small number of sales affected cannot be updated for publication until the sales are lodged for registration.\n",
    "\n",
    "##### `Data Description`\n",
    "\n",
    "1. __LRUniqueID:__ A reference number which is generated automatically recording each published sale. The number is unique and will change each time a sale is recorded.\n",
    "2. __SalePrice:__ Sale price stated on the transfer deed\n",
    "3. __SaleDate:__ Date when the sale was completed, as stated on the transfer deed.\n",
    "4. __PCUnit:__ This is the postcode used at the time of the original transaction. Note that postcodes can be reallocated and these changes are not reflected in the Price Paid Dataset.\n",
    "5. __PropertyType:__ D = Detached, S = Semi-Detached, T = Terraced, F = Flats/Maisonettes, O = Other,we only record the above categories to describe property type, we do not separately identify bungalows, end-of-terrace properties are included in the Terraced category above, ‘Other’ is only valid where the transaction relates to a property type that is not covered by existing values, for example where a property comprises more than one large parcel of land.\n",
    "6. __NewBuild:__ \tIndicates the age of the property and applies to all price paid transactions, residential and non-residential.Y = a newly built property, N = an established residential building\n",
    "7. __Freehold:__ Relates to the tenure: F = Freehold, L= Leasehold etc.Note that HM Land Registry does not record leases of 7 years or less in the Price Paid Dataset.\n",
    "8. __Add1:__ Primary Addressable Object Name. Typically the house number or name.\n",
    "9. __Add2:__ Secondary Addressable Object Name. Where a property has been divided into separate units (for example, flats), the PAON (above) will identify the building and a SAON will be specified that identifies the separate unit/flat.\n",
    "10. __Add3:__ Name of the Street\n",
    "11. __Add4:__ Name of the Locality\n",
    "12. __Add5:__ Name of the Town/City\n",
    "13. __Add6:__ Name of the District\n",
    "14. __Add7:__ Name of the County\n",
    "15. __Easting:__ \n",
    "16. __Northing:__ \n",
    "17. __Longitude:__\n",
    "18. __Latitude:__"
   ]
  },
  {
   "cell_type": "code",
   "execution_count": 1,
   "id": "1b9118be",
   "metadata": {
    "scrolled": false
   },
   "outputs": [
    {
     "name": "stdout",
     "output_type": "stream",
     "text": [
      "Requirement already satisfied: geopy in c:\\users\\admin\\anaconda3\\lib\\site-packages (2.4.1)\n",
      "Requirement already satisfied: geographiclib<3,>=1.52 in c:\\users\\admin\\anaconda3\\lib\\site-packages (from geopy) (2.0)\n",
      "Note: you may need to restart the kernel to use updated packages.\n"
     ]
    }
   ],
   "source": [
    "pip install geopy\n"
   ]
  },
  {
   "cell_type": "markdown",
   "id": "cd0a9345",
   "metadata": {},
   "source": [
    "#### Importing Necessary Libraries"
   ]
  },
  {
   "cell_type": "code",
   "execution_count": 2,
   "id": "522a49e5",
   "metadata": {},
   "outputs": [],
   "source": [
    "import pandas as pd\n",
    "import numpy as np\n",
    "import matplotlib.pyplot as plt\n",
    "import seaborn as sns\n",
    "from scipy.stats import probplot\n",
    "pd.set_option('display.max_rows', None)\n",
    "pd.set_option('display.max_columns', None)\n",
    "from datetime import datetime\n",
    "import geopy.distance\n"
   ]
  },
  {
   "cell_type": "markdown",
   "id": "a65d1c84",
   "metadata": {},
   "source": [
    "#### Importing  Data"
   ]
  },
  {
   "cell_type": "code",
   "execution_count": 3,
   "id": "55ba9a6d",
   "metadata": {},
   "outputs": [
    {
     "data": {
      "text/html": [
       "<div>\n",
       "<style scoped>\n",
       "    .dataframe tbody tr th:only-of-type {\n",
       "        vertical-align: middle;\n",
       "    }\n",
       "\n",
       "    .dataframe tbody tr th {\n",
       "        vertical-align: top;\n",
       "    }\n",
       "\n",
       "    .dataframe thead th {\n",
       "        text-align: right;\n",
       "    }\n",
       "</style>\n",
       "<table border=\"1\" class=\"dataframe\">\n",
       "  <thead>\n",
       "    <tr style=\"text-align: right;\">\n",
       "      <th></th>\n",
       "      <th>LRUniqueID</th>\n",
       "      <th>SalePrice</th>\n",
       "      <th>SaleDate</th>\n",
       "      <th>PCUnit</th>\n",
       "      <th>PropertyType</th>\n",
       "      <th>NewBuild</th>\n",
       "      <th>Freehold</th>\n",
       "      <th>Add1</th>\n",
       "      <th>Add2</th>\n",
       "      <th>Add3</th>\n",
       "      <th>Add4</th>\n",
       "      <th>Add5</th>\n",
       "      <th>Add6</th>\n",
       "      <th>Add7</th>\n",
       "      <th>oslaua</th>\n",
       "      <th>lsoa11</th>\n",
       "      <th>oa11</th>\n",
       "      <th>Easting</th>\n",
       "      <th>Northing</th>\n",
       "      <th>Longitude</th>\n",
       "      <th>Latitude</th>\n",
       "    </tr>\n",
       "  </thead>\n",
       "  <tbody>\n",
       "    <tr>\n",
       "      <th>0</th>\n",
       "      <td>{E0E65E87-B106-4411-961F-05AD44B2466F}</td>\n",
       "      <td>110000</td>\n",
       "      <td>10/1/2010</td>\n",
       "      <td>B19 2AT</td>\n",
       "      <td>T</td>\n",
       "      <td>N</td>\n",
       "      <td>F</td>\n",
       "      <td>26</td>\n",
       "      <td>NaN</td>\n",
       "      <td>LOZELLS STREET</td>\n",
       "      <td>NaN</td>\n",
       "      <td>BIRMINGHAM</td>\n",
       "      <td>BIRMINGHAM</td>\n",
       "      <td>WEST MIDLANDS</td>\n",
       "      <td>E08000025</td>\n",
       "      <td>E01033628</td>\n",
       "      <td>E00045244</td>\n",
       "      <td>406439</td>\n",
       "      <td>289262</td>\n",
       "      <td>-1.906575</td>\n",
       "      <td>52.501223</td>\n",
       "    </tr>\n",
       "    <tr>\n",
       "      <th>1</th>\n",
       "      <td>{E086C0A5-F4E8-4511-A1D3-1CFC70324463}</td>\n",
       "      <td>80000</td>\n",
       "      <td>3/31/2011</td>\n",
       "      <td>B36 8QN</td>\n",
       "      <td>T</td>\n",
       "      <td>N</td>\n",
       "      <td>F</td>\n",
       "      <td>9</td>\n",
       "      <td>NaN</td>\n",
       "      <td>AYRSHIRE CLOSE</td>\n",
       "      <td>NaN</td>\n",
       "      <td>BIRMINGHAM</td>\n",
       "      <td>BIRMINGHAM</td>\n",
       "      <td>WEST MIDLANDS</td>\n",
       "      <td>E08000025</td>\n",
       "      <td>E01009079</td>\n",
       "      <td>E00046081</td>\n",
       "      <td>412719</td>\n",
       "      <td>289832</td>\n",
       "      <td>-1.814042</td>\n",
       "      <td>52.506238</td>\n",
       "    </tr>\n",
       "    <tr>\n",
       "      <th>2</th>\n",
       "      <td>{3B2CA952-17C1-40DF-B6CB-31710FCA2ACA}</td>\n",
       "      <td>250000</td>\n",
       "      <td>12/6/2013</td>\n",
       "      <td>B28 9PA</td>\n",
       "      <td>S</td>\n",
       "      <td>Y</td>\n",
       "      <td>F</td>\n",
       "      <td>NaN</td>\n",
       "      <td>11</td>\n",
       "      <td>THE LOXLEYS</td>\n",
       "      <td>NaN</td>\n",
       "      <td>BIRMINGHAM</td>\n",
       "      <td>BIRMINGHAM</td>\n",
       "      <td>WEST MIDLANDS</td>\n",
       "      <td>E08000025</td>\n",
       "      <td>E01032589</td>\n",
       "      <td>E00045887</td>\n",
       "      <td>411333</td>\n",
       "      <td>280447</td>\n",
       "      <td>-1.834778</td>\n",
       "      <td>52.421898</td>\n",
       "    </tr>\n",
       "    <tr>\n",
       "      <th>3</th>\n",
       "      <td>{5BD504F3-4450-4463-94ED-F6753446F1F4}</td>\n",
       "      <td>127500</td>\n",
       "      <td>9/6/2013</td>\n",
       "      <td>B32 1PT</td>\n",
       "      <td>T</td>\n",
       "      <td>N</td>\n",
       "      <td>F</td>\n",
       "      <td>98A</td>\n",
       "      <td>NaN</td>\n",
       "      <td>RIDGACRE LANE</td>\n",
       "      <td>QUINTON</td>\n",
       "      <td>BIRMINGHAM</td>\n",
       "      <td>BIRMINGHAM</td>\n",
       "      <td>WEST MIDLANDS</td>\n",
       "      <td>E08000025</td>\n",
       "      <td>E01009249</td>\n",
       "      <td>E00046936</td>\n",
       "      <td>400284</td>\n",
       "      <td>284566</td>\n",
       "      <td>-1.997248</td>\n",
       "      <td>52.459043</td>\n",
       "    </tr>\n",
       "    <tr>\n",
       "      <th>4</th>\n",
       "      <td>{070F2F07-A6A0-4546-9A9A-1E91518B4F1D}</td>\n",
       "      <td>118000</td>\n",
       "      <td>9/11/2012</td>\n",
       "      <td>B73 6DS</td>\n",
       "      <td>F</td>\n",
       "      <td>N</td>\n",
       "      <td>L</td>\n",
       "      <td>TRENT COURT</td>\n",
       "      <td>FLAT 12</td>\n",
       "      <td>GARRARD GARDENS</td>\n",
       "      <td>NaN</td>\n",
       "      <td>SUTTON COLDFIELD</td>\n",
       "      <td>BIRMINGHAM</td>\n",
       "      <td>WEST MIDLANDS</td>\n",
       "      <td>E08000025</td>\n",
       "      <td>E01009449</td>\n",
       "      <td>E00047879</td>\n",
       "      <td>411779</td>\n",
       "      <td>296094</td>\n",
       "      <td>-1.827671</td>\n",
       "      <td>52.562553</td>\n",
       "    </tr>\n",
       "  </tbody>\n",
       "</table>\n",
       "</div>"
      ],
      "text/plain": [
       "                               LRUniqueID  SalePrice   SaleDate    PCUnit  \\\n",
       "0  {E0E65E87-B106-4411-961F-05AD44B2466F}     110000  10/1/2010  B19 2AT    \n",
       "1  {E086C0A5-F4E8-4511-A1D3-1CFC70324463}      80000  3/31/2011  B36 8QN    \n",
       "2  {3B2CA952-17C1-40DF-B6CB-31710FCA2ACA}     250000  12/6/2013  B28 9PA    \n",
       "3  {5BD504F3-4450-4463-94ED-F6753446F1F4}     127500   9/6/2013  B32 1PT    \n",
       "4  {070F2F07-A6A0-4546-9A9A-1E91518B4F1D}     118000  9/11/2012  B73 6DS    \n",
       "\n",
       "  PropertyType NewBuild Freehold         Add1     Add2             Add3  \\\n",
       "0            T        N        F           26      NaN   LOZELLS STREET   \n",
       "1            T        N        F            9      NaN   AYRSHIRE CLOSE   \n",
       "2            S        Y        F          NaN       11      THE LOXLEYS   \n",
       "3            T        N        F          98A      NaN    RIDGACRE LANE   \n",
       "4            F        N        L  TRENT COURT  FLAT 12  GARRARD GARDENS   \n",
       "\n",
       "      Add4              Add5        Add6           Add7     oslaua     lsoa11  \\\n",
       "0      NaN        BIRMINGHAM  BIRMINGHAM  WEST MIDLANDS  E08000025  E01033628   \n",
       "1      NaN        BIRMINGHAM  BIRMINGHAM  WEST MIDLANDS  E08000025  E01009079   \n",
       "2      NaN        BIRMINGHAM  BIRMINGHAM  WEST MIDLANDS  E08000025  E01032589   \n",
       "3  QUINTON        BIRMINGHAM  BIRMINGHAM  WEST MIDLANDS  E08000025  E01009249   \n",
       "4      NaN  SUTTON COLDFIELD  BIRMINGHAM  WEST MIDLANDS  E08000025  E01009449   \n",
       "\n",
       "        oa11  Easting  Northing  Longitude   Latitude  \n",
       "0  E00045244   406439    289262  -1.906575  52.501223  \n",
       "1  E00046081   412719    289832  -1.814042  52.506238  \n",
       "2  E00045887   411333    280447  -1.834778  52.421898  \n",
       "3  E00046936   400284    284566  -1.997248  52.459043  \n",
       "4  E00047879   411779    296094  -1.827671  52.562553  "
      ]
     },
     "execution_count": 3,
     "metadata": {},
     "output_type": "execute_result"
    }
   ],
   "source": [
    "# Display the first few rows of the DataFrame\n",
    "df = pd.read_csv('Land Registry Price Paid Data.csv')\n",
    "df.head()"
   ]
  },
  {
   "cell_type": "markdown",
   "id": "575faba8",
   "metadata": {},
   "source": [
    "**Let us now see the number of variables and observations in the data.**"
   ]
  },
  {
   "cell_type": "code",
   "execution_count": 4,
   "id": "a44ec0e5",
   "metadata": {},
   "outputs": [
    {
     "data": {
      "text/plain": [
       "(119446, 21)"
      ]
     },
     "execution_count": 4,
     "metadata": {},
     "output_type": "execute_result"
    }
   ],
   "source": [
    "# Display the number of rows and columns in the Dataframe\n",
    "df.shape"
   ]
  },
  {
   "cell_type": "markdown",
   "id": "25cc09a8",
   "metadata": {},
   "source": [
    "**Interpretation:** The data has 119446 observations and 21 variables."
   ]
  },
  {
   "cell_type": "markdown",
   "id": "851d1f9b",
   "metadata": {},
   "source": [
    "**Get a concise summary of the DataFrame.**"
   ]
  },
  {
   "cell_type": "code",
   "execution_count": 5,
   "id": "c7df5e1f",
   "metadata": {
    "scrolled": false
   },
   "outputs": [
    {
     "name": "stdout",
     "output_type": "stream",
     "text": [
      "<class 'pandas.core.frame.DataFrame'>\n",
      "RangeIndex: 119446 entries, 0 to 119445\n",
      "Data columns (total 21 columns):\n",
      " #   Column        Non-Null Count   Dtype  \n",
      "---  ------        --------------   -----  \n",
      " 0   LRUniqueID    119446 non-null  object \n",
      " 1   SalePrice     119446 non-null  int64  \n",
      " 2   SaleDate      119446 non-null  object \n",
      " 3   PCUnit        119446 non-null  object \n",
      " 4   PropertyType  119446 non-null  object \n",
      " 5   NewBuild      119446 non-null  object \n",
      " 6   Freehold      119446 non-null  object \n",
      " 7   Add1          116179 non-null  object \n",
      " 8   Add2          21693 non-null   object \n",
      " 9   Add3          119446 non-null  object \n",
      " 10  Add4          36454 non-null   object \n",
      " 11  Add5          119446 non-null  object \n",
      " 12  Add6          119446 non-null  object \n",
      " 13  Add7          119446 non-null  object \n",
      " 14  oslaua        119446 non-null  object \n",
      " 15  lsoa11        119446 non-null  object \n",
      " 16  oa11          119446 non-null  object \n",
      " 17  Easting       119446 non-null  int64  \n",
      " 18  Northing      119446 non-null  int64  \n",
      " 19  Longitude     119446 non-null  float64\n",
      " 20  Latitude      119446 non-null  float64\n",
      "dtypes: float64(2), int64(3), object(16)\n",
      "memory usage: 19.1+ MB\n"
     ]
    }
   ],
   "source": [
    "# Display information about the dataframe, datatype and non null value count\n",
    "df.info()"
   ]
  },
  {
   "cell_type": "markdown",
   "id": "ef483a6e",
   "metadata": {},
   "source": [
    "**Interpretation:**  5 variables are numeric and 16 variables are categorical. "
   ]
  },
  {
   "cell_type": "code",
   "execution_count": 6,
   "id": "bf541e9e",
   "metadata": {},
   "outputs": [
    {
     "data": {
      "text/html": [
       "<div>\n",
       "<style scoped>\n",
       "    .dataframe tbody tr th:only-of-type {\n",
       "        vertical-align: middle;\n",
       "    }\n",
       "\n",
       "    .dataframe tbody tr th {\n",
       "        vertical-align: top;\n",
       "    }\n",
       "\n",
       "    .dataframe thead th {\n",
       "        text-align: right;\n",
       "    }\n",
       "</style>\n",
       "<table border=\"1\" class=\"dataframe\">\n",
       "  <thead>\n",
       "    <tr style=\"text-align: right;\">\n",
       "      <th></th>\n",
       "      <th>SalePrice</th>\n",
       "      <th>Easting</th>\n",
       "      <th>Northing</th>\n",
       "      <th>Longitude</th>\n",
       "      <th>Latitude</th>\n",
       "    </tr>\n",
       "  </thead>\n",
       "  <tbody>\n",
       "    <tr>\n",
       "      <th>count</th>\n",
       "      <td>1.194460e+05</td>\n",
       "      <td>119446.000000</td>\n",
       "      <td>119446.000000</td>\n",
       "      <td>119446.000000</td>\n",
       "      <td>119446.000000</td>\n",
       "    </tr>\n",
       "    <tr>\n",
       "      <th>mean</th>\n",
       "      <td>1.780880e+05</td>\n",
       "      <td>408038.468706</td>\n",
       "      <td>286740.555339</td>\n",
       "      <td>-1.883036</td>\n",
       "      <td>52.478519</td>\n",
       "    </tr>\n",
       "    <tr>\n",
       "      <th>std</th>\n",
       "      <td>1.202095e+05</td>\n",
       "      <td>4236.971771</td>\n",
       "      <td>5816.042181</td>\n",
       "      <td>0.062437</td>\n",
       "      <td>0.052258</td>\n",
       "    </tr>\n",
       "    <tr>\n",
       "      <th>min</th>\n",
       "      <td>2.500000e+03</td>\n",
       "      <td>397872.000000</td>\n",
       "      <td>276267.000000</td>\n",
       "      <td>-2.032704</td>\n",
       "      <td>52.384434</td>\n",
       "    </tr>\n",
       "    <tr>\n",
       "      <th>25%</th>\n",
       "      <td>1.120000e+05</td>\n",
       "      <td>404878.000000</td>\n",
       "      <td>282138.000000</td>\n",
       "      <td>-1.929607</td>\n",
       "      <td>52.437170</td>\n",
       "    </tr>\n",
       "    <tr>\n",
       "      <th>50%</th>\n",
       "      <td>1.479500e+05</td>\n",
       "      <td>407981.000000</td>\n",
       "      <td>286083.000000</td>\n",
       "      <td>-1.883966</td>\n",
       "      <td>52.472556</td>\n",
       "    </tr>\n",
       "    <tr>\n",
       "      <th>75%</th>\n",
       "      <td>2.066582e+05</td>\n",
       "      <td>411531.000000</td>\n",
       "      <td>291604.000000</td>\n",
       "      <td>-1.831517</td>\n",
       "      <td>52.522197</td>\n",
       "    </tr>\n",
       "    <tr>\n",
       "      <th>max</th>\n",
       "      <td>4.725000e+06</td>\n",
       "      <td>416733.000000</td>\n",
       "      <td>300912.000000</td>\n",
       "      <td>-1.754730</td>\n",
       "      <td>52.605885</td>\n",
       "    </tr>\n",
       "  </tbody>\n",
       "</table>\n",
       "</div>"
      ],
      "text/plain": [
       "          SalePrice        Easting       Northing      Longitude  \\\n",
       "count  1.194460e+05  119446.000000  119446.000000  119446.000000   \n",
       "mean   1.780880e+05  408038.468706  286740.555339      -1.883036   \n",
       "std    1.202095e+05    4236.971771    5816.042181       0.062437   \n",
       "min    2.500000e+03  397872.000000  276267.000000      -2.032704   \n",
       "25%    1.120000e+05  404878.000000  282138.000000      -1.929607   \n",
       "50%    1.479500e+05  407981.000000  286083.000000      -1.883966   \n",
       "75%    2.066582e+05  411531.000000  291604.000000      -1.831517   \n",
       "max    4.725000e+06  416733.000000  300912.000000      -1.754730   \n",
       "\n",
       "            Latitude  \n",
       "count  119446.000000  \n",
       "mean       52.478519  \n",
       "std         0.052258  \n",
       "min        52.384434  \n",
       "25%        52.437170  \n",
       "50%        52.472556  \n",
       "75%        52.522197  \n",
       "max        52.605885  "
      ]
     },
     "execution_count": 6,
     "metadata": {},
     "output_type": "execute_result"
    }
   ],
   "source": [
    "# Generate descriptive statistics of numerical columns in the DataFrame\n",
    "df.describe()"
   ]
  },
  {
   "cell_type": "code",
   "execution_count": 7,
   "id": "0d369360",
   "metadata": {},
   "outputs": [
    {
     "data": {
      "text/plain": [
       "LRUniqueID          0\n",
       "SalePrice           0\n",
       "SaleDate            0\n",
       "PCUnit              0\n",
       "PropertyType        0\n",
       "NewBuild            0\n",
       "Freehold            0\n",
       "Add1             3267\n",
       "Add2            97753\n",
       "Add3                0\n",
       "Add4            82992\n",
       "Add5                0\n",
       "Add6                0\n",
       "Add7                0\n",
       "oslaua              0\n",
       "lsoa11              0\n",
       "oa11                0\n",
       "Easting             0\n",
       "Northing            0\n",
       "Longitude           0\n",
       "Latitude            0\n",
       "dtype: int64"
      ]
     },
     "execution_count": 7,
     "metadata": {},
     "output_type": "execute_result"
    }
   ],
   "source": [
    "# Exploring Missing Values\n",
    "df.isnull().sum()"
   ]
  },
  {
   "cell_type": "markdown",
   "id": "56b1a186",
   "metadata": {},
   "source": [
    "#### Data Cleaning"
   ]
  },
  {
   "cell_type": "code",
   "execution_count": 8,
   "id": "157b8cca",
   "metadata": {},
   "outputs": [
    {
     "data": {
      "text/html": [
       "<div>\n",
       "<style scoped>\n",
       "    .dataframe tbody tr th:only-of-type {\n",
       "        vertical-align: middle;\n",
       "    }\n",
       "\n",
       "    .dataframe tbody tr th {\n",
       "        vertical-align: top;\n",
       "    }\n",
       "\n",
       "    .dataframe thead th {\n",
       "        text-align: right;\n",
       "    }\n",
       "</style>\n",
       "<table border=\"1\" class=\"dataframe\">\n",
       "  <thead>\n",
       "    <tr style=\"text-align: right;\">\n",
       "      <th></th>\n",
       "      <th>LRUniqueID</th>\n",
       "      <th>SalePrice</th>\n",
       "      <th>SaleDate</th>\n",
       "      <th>PCUnit</th>\n",
       "      <th>PropertyType</th>\n",
       "      <th>NewBuild</th>\n",
       "      <th>Freehold</th>\n",
       "      <th>PAON</th>\n",
       "      <th>SOAN</th>\n",
       "      <th>Street</th>\n",
       "      <th>Locality</th>\n",
       "      <th>City</th>\n",
       "      <th>District</th>\n",
       "      <th>County</th>\n",
       "      <th>oslaua</th>\n",
       "      <th>lsoa11</th>\n",
       "      <th>oa11</th>\n",
       "      <th>Easting</th>\n",
       "      <th>Northing</th>\n",
       "      <th>Longitude</th>\n",
       "      <th>Latitude</th>\n",
       "    </tr>\n",
       "  </thead>\n",
       "  <tbody>\n",
       "    <tr>\n",
       "      <th>0</th>\n",
       "      <td>{E0E65E87-B106-4411-961F-05AD44B2466F}</td>\n",
       "      <td>110000</td>\n",
       "      <td>10/1/2010</td>\n",
       "      <td>B19 2AT</td>\n",
       "      <td>T</td>\n",
       "      <td>N</td>\n",
       "      <td>F</td>\n",
       "      <td>26</td>\n",
       "      <td>NaN</td>\n",
       "      <td>LOZELLS STREET</td>\n",
       "      <td>NaN</td>\n",
       "      <td>BIRMINGHAM</td>\n",
       "      <td>BIRMINGHAM</td>\n",
       "      <td>WEST MIDLANDS</td>\n",
       "      <td>E08000025</td>\n",
       "      <td>E01033628</td>\n",
       "      <td>E00045244</td>\n",
       "      <td>406439</td>\n",
       "      <td>289262</td>\n",
       "      <td>-1.906575</td>\n",
       "      <td>52.501223</td>\n",
       "    </tr>\n",
       "    <tr>\n",
       "      <th>1</th>\n",
       "      <td>{E086C0A5-F4E8-4511-A1D3-1CFC70324463}</td>\n",
       "      <td>80000</td>\n",
       "      <td>3/31/2011</td>\n",
       "      <td>B36 8QN</td>\n",
       "      <td>T</td>\n",
       "      <td>N</td>\n",
       "      <td>F</td>\n",
       "      <td>9</td>\n",
       "      <td>NaN</td>\n",
       "      <td>AYRSHIRE CLOSE</td>\n",
       "      <td>NaN</td>\n",
       "      <td>BIRMINGHAM</td>\n",
       "      <td>BIRMINGHAM</td>\n",
       "      <td>WEST MIDLANDS</td>\n",
       "      <td>E08000025</td>\n",
       "      <td>E01009079</td>\n",
       "      <td>E00046081</td>\n",
       "      <td>412719</td>\n",
       "      <td>289832</td>\n",
       "      <td>-1.814042</td>\n",
       "      <td>52.506238</td>\n",
       "    </tr>\n",
       "    <tr>\n",
       "      <th>2</th>\n",
       "      <td>{3B2CA952-17C1-40DF-B6CB-31710FCA2ACA}</td>\n",
       "      <td>250000</td>\n",
       "      <td>12/6/2013</td>\n",
       "      <td>B28 9PA</td>\n",
       "      <td>S</td>\n",
       "      <td>Y</td>\n",
       "      <td>F</td>\n",
       "      <td>NaN</td>\n",
       "      <td>11</td>\n",
       "      <td>THE LOXLEYS</td>\n",
       "      <td>NaN</td>\n",
       "      <td>BIRMINGHAM</td>\n",
       "      <td>BIRMINGHAM</td>\n",
       "      <td>WEST MIDLANDS</td>\n",
       "      <td>E08000025</td>\n",
       "      <td>E01032589</td>\n",
       "      <td>E00045887</td>\n",
       "      <td>411333</td>\n",
       "      <td>280447</td>\n",
       "      <td>-1.834778</td>\n",
       "      <td>52.421898</td>\n",
       "    </tr>\n",
       "    <tr>\n",
       "      <th>3</th>\n",
       "      <td>{5BD504F3-4450-4463-94ED-F6753446F1F4}</td>\n",
       "      <td>127500</td>\n",
       "      <td>9/6/2013</td>\n",
       "      <td>B32 1PT</td>\n",
       "      <td>T</td>\n",
       "      <td>N</td>\n",
       "      <td>F</td>\n",
       "      <td>98A</td>\n",
       "      <td>NaN</td>\n",
       "      <td>RIDGACRE LANE</td>\n",
       "      <td>QUINTON</td>\n",
       "      <td>BIRMINGHAM</td>\n",
       "      <td>BIRMINGHAM</td>\n",
       "      <td>WEST MIDLANDS</td>\n",
       "      <td>E08000025</td>\n",
       "      <td>E01009249</td>\n",
       "      <td>E00046936</td>\n",
       "      <td>400284</td>\n",
       "      <td>284566</td>\n",
       "      <td>-1.997248</td>\n",
       "      <td>52.459043</td>\n",
       "    </tr>\n",
       "    <tr>\n",
       "      <th>4</th>\n",
       "      <td>{070F2F07-A6A0-4546-9A9A-1E91518B4F1D}</td>\n",
       "      <td>118000</td>\n",
       "      <td>9/11/2012</td>\n",
       "      <td>B73 6DS</td>\n",
       "      <td>F</td>\n",
       "      <td>N</td>\n",
       "      <td>L</td>\n",
       "      <td>TRENT COURT</td>\n",
       "      <td>FLAT 12</td>\n",
       "      <td>GARRARD GARDENS</td>\n",
       "      <td>NaN</td>\n",
       "      <td>SUTTON COLDFIELD</td>\n",
       "      <td>BIRMINGHAM</td>\n",
       "      <td>WEST MIDLANDS</td>\n",
       "      <td>E08000025</td>\n",
       "      <td>E01009449</td>\n",
       "      <td>E00047879</td>\n",
       "      <td>411779</td>\n",
       "      <td>296094</td>\n",
       "      <td>-1.827671</td>\n",
       "      <td>52.562553</td>\n",
       "    </tr>\n",
       "  </tbody>\n",
       "</table>\n",
       "</div>"
      ],
      "text/plain": [
       "                               LRUniqueID  SalePrice   SaleDate    PCUnit  \\\n",
       "0  {E0E65E87-B106-4411-961F-05AD44B2466F}     110000  10/1/2010  B19 2AT    \n",
       "1  {E086C0A5-F4E8-4511-A1D3-1CFC70324463}      80000  3/31/2011  B36 8QN    \n",
       "2  {3B2CA952-17C1-40DF-B6CB-31710FCA2ACA}     250000  12/6/2013  B28 9PA    \n",
       "3  {5BD504F3-4450-4463-94ED-F6753446F1F4}     127500   9/6/2013  B32 1PT    \n",
       "4  {070F2F07-A6A0-4546-9A9A-1E91518B4F1D}     118000  9/11/2012  B73 6DS    \n",
       "\n",
       "  PropertyType NewBuild Freehold         PAON     SOAN           Street  \\\n",
       "0            T        N        F           26      NaN   LOZELLS STREET   \n",
       "1            T        N        F            9      NaN   AYRSHIRE CLOSE   \n",
       "2            S        Y        F          NaN       11      THE LOXLEYS   \n",
       "3            T        N        F          98A      NaN    RIDGACRE LANE   \n",
       "4            F        N        L  TRENT COURT  FLAT 12  GARRARD GARDENS   \n",
       "\n",
       "  Locality              City    District         County     oslaua     lsoa11  \\\n",
       "0      NaN        BIRMINGHAM  BIRMINGHAM  WEST MIDLANDS  E08000025  E01033628   \n",
       "1      NaN        BIRMINGHAM  BIRMINGHAM  WEST MIDLANDS  E08000025  E01009079   \n",
       "2      NaN        BIRMINGHAM  BIRMINGHAM  WEST MIDLANDS  E08000025  E01032589   \n",
       "3  QUINTON        BIRMINGHAM  BIRMINGHAM  WEST MIDLANDS  E08000025  E01009249   \n",
       "4      NaN  SUTTON COLDFIELD  BIRMINGHAM  WEST MIDLANDS  E08000025  E01009449   \n",
       "\n",
       "        oa11  Easting  Northing  Longitude   Latitude  \n",
       "0  E00045244   406439    289262  -1.906575  52.501223  \n",
       "1  E00046081   412719    289832  -1.814042  52.506238  \n",
       "2  E00045887   411333    280447  -1.834778  52.421898  \n",
       "3  E00046936   400284    284566  -1.997248  52.459043  \n",
       "4  E00047879   411779    296094  -1.827671  52.562553  "
      ]
     },
     "execution_count": 8,
     "metadata": {},
     "output_type": "execute_result"
    }
   ],
   "source": [
    "# changing the columns name as follows\n",
    "df1 = df.rename(columns = {\"Add1\" : \"PAON\", \"Add2\":\"SOAN\", \"Add3\":\"Street\", \"Add4\":\"Locality\", \"Add5\":\"City\", \"Add6\":\"District\", \"Add7\":\"County\"})\n",
    "df1.head()"
   ]
  },
  {
   "cell_type": "code",
   "execution_count": 9,
   "id": "45dcbcc7",
   "metadata": {},
   "outputs": [],
   "source": [
    "# Renaming the property type to make it user friendly \n",
    "df1['PropertyType']= df1['PropertyType'].replace(\"T\",\"Terraced\").replace(\"D\",\"Detached\").replace(\"S\", \"Semi-Detached\").replace(\"F\", \"Flats/Mainsonetts\")"
   ]
  },
  {
   "cell_type": "code",
   "execution_count": 10,
   "id": "d45e1f6a",
   "metadata": {},
   "outputs": [
    {
     "data": {
      "text/plain": [
       "Terraced             43441\n",
       "Semi-Detached        38422\n",
       "Flats/Mainsonetts    24320\n",
       "Detached             13263\n",
       "Name: PropertyType, dtype: int64"
      ]
     },
     "execution_count": 10,
     "metadata": {},
     "output_type": "execute_result"
    }
   ],
   "source": [
    "# To check the value count category wise\n",
    "df1['PropertyType'].value_counts()"
   ]
  },
  {
   "cell_type": "code",
   "execution_count": 11,
   "id": "1c77da42",
   "metadata": {},
   "outputs": [],
   "source": [
    "# Renaming 'N' as 'Established Residential' and 'Y' as 'New Built'\n",
    "df1['NewBuild']  = df1['NewBuild'].replace(\"N\", \"Established Residential\").replace(\"Y\", \"New Built\")"
   ]
  },
  {
   "cell_type": "code",
   "execution_count": 12,
   "id": "a0d272cd",
   "metadata": {},
   "outputs": [
    {
     "data": {
      "text/plain": [
       "Established Residential    109260\n",
       "New Built                   10186\n",
       "Name: NewBuild, dtype: int64"
      ]
     },
     "execution_count": 12,
     "metadata": {},
     "output_type": "execute_result"
    }
   ],
   "source": [
    "# To check if it is changed or not \n",
    "df1['NewBuild'].value_counts()"
   ]
  },
  {
   "cell_type": "code",
   "execution_count": 13,
   "id": "f537bbdd",
   "metadata": {},
   "outputs": [],
   "source": [
    "# Renaming 'F' as 'Freehold' and 'L' as 'Leasehold' in the dataframe \n",
    "df1['Freehold'] = df1['Freehold'].replace(\"F\", \"Freehold\").replace(\"L\", \"Leasehold\")"
   ]
  },
  {
   "cell_type": "code",
   "execution_count": 14,
   "id": "aa31d7ea",
   "metadata": {},
   "outputs": [
    {
     "data": {
      "text/plain": [
       "Freehold     86457\n",
       "Leasehold    32989\n",
       "Name: Freehold, dtype: int64"
      ]
     },
     "execution_count": 14,
     "metadata": {},
     "output_type": "execute_result"
    }
   ],
   "source": [
    "# To check if its changed or not\n",
    "df1['Freehold'].value_counts()"
   ]
  },
  {
   "cell_type": "code",
   "execution_count": 15,
   "id": "5e056fd5",
   "metadata": {},
   "outputs": [
    {
     "data": {
      "text/plain": [
       "6800"
      ]
     },
     "execution_count": 15,
     "metadata": {},
     "output_type": "execute_result"
    }
   ],
   "source": [
    "# To check the unique values in 'Street' column\n",
    "df1[\"Street\"].nunique()"
   ]
  },
  {
   "cell_type": "code",
   "execution_count": 16,
   "id": "5051783c",
   "metadata": {},
   "outputs": [
    {
     "data": {
      "text/plain": [
       "86"
      ]
     },
     "execution_count": 16,
     "metadata": {},
     "output_type": "execute_result"
    }
   ],
   "source": [
    "# To check the unique values present in 'Locality' column\n",
    "df1['Locality'].nunique()"
   ]
  },
  {
   "cell_type": "code",
   "execution_count": 17,
   "id": "89b3ce52",
   "metadata": {},
   "outputs": [
    {
     "data": {
      "text/plain": [
       "WEST MIDLANDS            119413\n",
       "WORCESTERSHIRE               23\n",
       "STAFFORDSHIRE                 7\n",
       "GREATER LONDON                1\n",
       "SOUTH GLOUCESTERSHIRE         1\n",
       "WARWICKSHIRE                  1\n",
       "Name: County, dtype: int64"
      ]
     },
     "execution_count": 17,
     "metadata": {},
     "output_type": "execute_result"
    }
   ],
   "source": [
    "df1['County'].value_counts()"
   ]
  },
  {
   "cell_type": "code",
   "execution_count": 18,
   "id": "fec7acfb",
   "metadata": {},
   "outputs": [
    {
     "data": {
      "text/plain": [
       "BIRMINGHAM               119387\n",
       "BROMSGROVE                   22\n",
       "SOLIHULL                     10\n",
       "COVENTRY                      7\n",
       "LICHFIELD                     7\n",
       "SANDWELL                      4\n",
       "DUDLEY                        3\n",
       "REDDITCH                      1\n",
       "SUTTON                        1\n",
       "WALSALL                       1\n",
       "SOUTH GLOUCESTERSHIRE         1\n",
       "WARWICK                       1\n",
       "WOLVERHAMPTON                 1\n",
       "Name: District, dtype: int64"
      ]
     },
     "execution_count": 18,
     "metadata": {},
     "output_type": "execute_result"
    }
   ],
   "source": [
    "# To check the values present in the 'District' column.\n",
    "df1['District'].value_counts()"
   ]
  },
  {
   "cell_type": "code",
   "execution_count": 19,
   "id": "825165df",
   "metadata": {},
   "outputs": [
    {
     "data": {
      "text/plain": [
       "WEST MIDLANDS            119413\n",
       "WORCESTERSHIRE               23\n",
       "STAFFORDSHIRE                 7\n",
       "GREATER LONDON                1\n",
       "SOUTH GLOUCESTERSHIRE         1\n",
       "WARWICKSHIRE                  1\n",
       "Name: County, dtype: int64"
      ]
     },
     "execution_count": 19,
     "metadata": {},
     "output_type": "execute_result"
    }
   ],
   "source": [
    "# To check the values present in the 'Country' column.\n",
    "df1['County'].value_counts()"
   ]
  },
  {
   "cell_type": "code",
   "execution_count": 20,
   "id": "ca5b96d4",
   "metadata": {},
   "outputs": [
    {
     "data": {
      "text/plain": [
       "0"
      ]
     },
     "execution_count": 20,
     "metadata": {},
     "output_type": "execute_result"
    }
   ],
   "source": [
    "# To Check duplicate values present in the dataframe.\n",
    "df1.duplicated().sum()"
   ]
  },
  {
   "cell_type": "code",
   "execution_count": 21,
   "id": "e9253f98",
   "metadata": {},
   "outputs": [
    {
     "data": {
      "text/html": [
       "<div>\n",
       "<style scoped>\n",
       "    .dataframe tbody tr th:only-of-type {\n",
       "        vertical-align: middle;\n",
       "    }\n",
       "\n",
       "    .dataframe tbody tr th {\n",
       "        vertical-align: top;\n",
       "    }\n",
       "\n",
       "    .dataframe thead th {\n",
       "        text-align: right;\n",
       "    }\n",
       "</style>\n",
       "<table border=\"1\" class=\"dataframe\">\n",
       "  <thead>\n",
       "    <tr style=\"text-align: right;\">\n",
       "      <th></th>\n",
       "      <th>LRUniqueID</th>\n",
       "      <th>SalePrice</th>\n",
       "      <th>SaleDate</th>\n",
       "      <th>PCUnit</th>\n",
       "      <th>PropertyType</th>\n",
       "      <th>NewBuild</th>\n",
       "      <th>Freehold</th>\n",
       "      <th>PAON</th>\n",
       "      <th>SOAN</th>\n",
       "      <th>Street</th>\n",
       "      <th>Locality</th>\n",
       "      <th>City</th>\n",
       "      <th>District</th>\n",
       "      <th>County</th>\n",
       "      <th>oslaua</th>\n",
       "      <th>lsoa11</th>\n",
       "      <th>oa11</th>\n",
       "      <th>Easting</th>\n",
       "      <th>Northing</th>\n",
       "      <th>Longitude</th>\n",
       "      <th>Latitude</th>\n",
       "    </tr>\n",
       "  </thead>\n",
       "  <tbody>\n",
       "    <tr>\n",
       "      <th>0</th>\n",
       "      <td>{E0E65E87-B106-4411-961F-05AD44B2466F}</td>\n",
       "      <td>110000</td>\n",
       "      <td>10/1/2010</td>\n",
       "      <td>B19 2AT</td>\n",
       "      <td>Terraced</td>\n",
       "      <td>Established Residential</td>\n",
       "      <td>Freehold</td>\n",
       "      <td>26</td>\n",
       "      <td>NaN</td>\n",
       "      <td>LOZELLS STREET</td>\n",
       "      <td>NaN</td>\n",
       "      <td>BIRMINGHAM</td>\n",
       "      <td>BIRMINGHAM</td>\n",
       "      <td>WEST MIDLANDS</td>\n",
       "      <td>E08000025</td>\n",
       "      <td>E01033628</td>\n",
       "      <td>E00045244</td>\n",
       "      <td>406439</td>\n",
       "      <td>289262</td>\n",
       "      <td>-1.906575</td>\n",
       "      <td>52.501223</td>\n",
       "    </tr>\n",
       "    <tr>\n",
       "      <th>1</th>\n",
       "      <td>{E086C0A5-F4E8-4511-A1D3-1CFC70324463}</td>\n",
       "      <td>80000</td>\n",
       "      <td>3/31/2011</td>\n",
       "      <td>B36 8QN</td>\n",
       "      <td>Terraced</td>\n",
       "      <td>Established Residential</td>\n",
       "      <td>Freehold</td>\n",
       "      <td>9</td>\n",
       "      <td>NaN</td>\n",
       "      <td>AYRSHIRE CLOSE</td>\n",
       "      <td>NaN</td>\n",
       "      <td>BIRMINGHAM</td>\n",
       "      <td>BIRMINGHAM</td>\n",
       "      <td>WEST MIDLANDS</td>\n",
       "      <td>E08000025</td>\n",
       "      <td>E01009079</td>\n",
       "      <td>E00046081</td>\n",
       "      <td>412719</td>\n",
       "      <td>289832</td>\n",
       "      <td>-1.814042</td>\n",
       "      <td>52.506238</td>\n",
       "    </tr>\n",
       "    <tr>\n",
       "      <th>2</th>\n",
       "      <td>{3B2CA952-17C1-40DF-B6CB-31710FCA2ACA}</td>\n",
       "      <td>250000</td>\n",
       "      <td>12/6/2013</td>\n",
       "      <td>B28 9PA</td>\n",
       "      <td>Semi-Detached</td>\n",
       "      <td>New Built</td>\n",
       "      <td>Freehold</td>\n",
       "      <td>NaN</td>\n",
       "      <td>11</td>\n",
       "      <td>THE LOXLEYS</td>\n",
       "      <td>NaN</td>\n",
       "      <td>BIRMINGHAM</td>\n",
       "      <td>BIRMINGHAM</td>\n",
       "      <td>WEST MIDLANDS</td>\n",
       "      <td>E08000025</td>\n",
       "      <td>E01032589</td>\n",
       "      <td>E00045887</td>\n",
       "      <td>411333</td>\n",
       "      <td>280447</td>\n",
       "      <td>-1.834778</td>\n",
       "      <td>52.421898</td>\n",
       "    </tr>\n",
       "    <tr>\n",
       "      <th>3</th>\n",
       "      <td>{5BD504F3-4450-4463-94ED-F6753446F1F4}</td>\n",
       "      <td>127500</td>\n",
       "      <td>9/6/2013</td>\n",
       "      <td>B32 1PT</td>\n",
       "      <td>Terraced</td>\n",
       "      <td>Established Residential</td>\n",
       "      <td>Freehold</td>\n",
       "      <td>98A</td>\n",
       "      <td>NaN</td>\n",
       "      <td>RIDGACRE LANE</td>\n",
       "      <td>QUINTON</td>\n",
       "      <td>BIRMINGHAM</td>\n",
       "      <td>BIRMINGHAM</td>\n",
       "      <td>WEST MIDLANDS</td>\n",
       "      <td>E08000025</td>\n",
       "      <td>E01009249</td>\n",
       "      <td>E00046936</td>\n",
       "      <td>400284</td>\n",
       "      <td>284566</td>\n",
       "      <td>-1.997248</td>\n",
       "      <td>52.459043</td>\n",
       "    </tr>\n",
       "    <tr>\n",
       "      <th>4</th>\n",
       "      <td>{070F2F07-A6A0-4546-9A9A-1E91518B4F1D}</td>\n",
       "      <td>118000</td>\n",
       "      <td>9/11/2012</td>\n",
       "      <td>B73 6DS</td>\n",
       "      <td>Flats/Mainsonetts</td>\n",
       "      <td>Established Residential</td>\n",
       "      <td>Leasehold</td>\n",
       "      <td>TRENT COURT</td>\n",
       "      <td>FLAT 12</td>\n",
       "      <td>GARRARD GARDENS</td>\n",
       "      <td>NaN</td>\n",
       "      <td>SUTTON COLDFIELD</td>\n",
       "      <td>BIRMINGHAM</td>\n",
       "      <td>WEST MIDLANDS</td>\n",
       "      <td>E08000025</td>\n",
       "      <td>E01009449</td>\n",
       "      <td>E00047879</td>\n",
       "      <td>411779</td>\n",
       "      <td>296094</td>\n",
       "      <td>-1.827671</td>\n",
       "      <td>52.562553</td>\n",
       "    </tr>\n",
       "  </tbody>\n",
       "</table>\n",
       "</div>"
      ],
      "text/plain": [
       "                               LRUniqueID  SalePrice   SaleDate    PCUnit  \\\n",
       "0  {E0E65E87-B106-4411-961F-05AD44B2466F}     110000  10/1/2010  B19 2AT    \n",
       "1  {E086C0A5-F4E8-4511-A1D3-1CFC70324463}      80000  3/31/2011  B36 8QN    \n",
       "2  {3B2CA952-17C1-40DF-B6CB-31710FCA2ACA}     250000  12/6/2013  B28 9PA    \n",
       "3  {5BD504F3-4450-4463-94ED-F6753446F1F4}     127500   9/6/2013  B32 1PT    \n",
       "4  {070F2F07-A6A0-4546-9A9A-1E91518B4F1D}     118000  9/11/2012  B73 6DS    \n",
       "\n",
       "        PropertyType                 NewBuild   Freehold         PAON  \\\n",
       "0           Terraced  Established Residential   Freehold           26   \n",
       "1           Terraced  Established Residential   Freehold            9   \n",
       "2      Semi-Detached                New Built   Freehold          NaN   \n",
       "3           Terraced  Established Residential   Freehold          98A   \n",
       "4  Flats/Mainsonetts  Established Residential  Leasehold  TRENT COURT   \n",
       "\n",
       "      SOAN           Street Locality              City    District  \\\n",
       "0      NaN   LOZELLS STREET      NaN        BIRMINGHAM  BIRMINGHAM   \n",
       "1      NaN   AYRSHIRE CLOSE      NaN        BIRMINGHAM  BIRMINGHAM   \n",
       "2       11      THE LOXLEYS      NaN        BIRMINGHAM  BIRMINGHAM   \n",
       "3      NaN    RIDGACRE LANE  QUINTON        BIRMINGHAM  BIRMINGHAM   \n",
       "4  FLAT 12  GARRARD GARDENS      NaN  SUTTON COLDFIELD  BIRMINGHAM   \n",
       "\n",
       "          County     oslaua     lsoa11       oa11  Easting  Northing  \\\n",
       "0  WEST MIDLANDS  E08000025  E01033628  E00045244   406439    289262   \n",
       "1  WEST MIDLANDS  E08000025  E01009079  E00046081   412719    289832   \n",
       "2  WEST MIDLANDS  E08000025  E01032589  E00045887   411333    280447   \n",
       "3  WEST MIDLANDS  E08000025  E01009249  E00046936   400284    284566   \n",
       "4  WEST MIDLANDS  E08000025  E01009449  E00047879   411779    296094   \n",
       "\n",
       "   Longitude   Latitude  \n",
       "0  -1.906575  52.501223  \n",
       "1  -1.814042  52.506238  \n",
       "2  -1.834778  52.421898  \n",
       "3  -1.997248  52.459043  \n",
       "4  -1.827671  52.562553  "
      ]
     },
     "execution_count": 21,
     "metadata": {},
     "output_type": "execute_result"
    }
   ],
   "source": [
    "# To show first few rows of the dataframe.\n",
    "df1.head()"
   ]
  },
  {
   "cell_type": "code",
   "execution_count": 22,
   "id": "058df3d7",
   "metadata": {},
   "outputs": [],
   "source": [
    "# We are replacing '/' with '-' so we can convert it into datetime format.\n",
    "df1['SaleDate'] = df1['SaleDate'].str.replace('/', '-')"
   ]
  },
  {
   "cell_type": "code",
   "execution_count": 23,
   "id": "5b447454",
   "metadata": {},
   "outputs": [],
   "source": [
    "#Convert current date column into datetime object for easy time based manipulation\n",
    "df1['SaleDate'] = df1.apply(lambda x: datetime.strptime(x['SaleDate'], '%m-%d-%Y'), axis=1)"
   ]
  },
  {
   "cell_type": "code",
   "execution_count": 24,
   "id": "cb4726a6",
   "metadata": {},
   "outputs": [],
   "source": [
    "df1['SaleYear'] = df1.apply(lambda x: x['SaleDate'].year, axis=1)\n",
    "df1['SaleMonth'] = df1.apply(lambda x: x['SaleDate'].month, axis=1)\n",
    "df1['SaleDay'] = df1.apply(lambda x: x['SaleDate'].day, axis=1)\n",
    "df1['SaleYearMonth'] = df1['SaleYear'] + df1['SaleMonth']/12"
   ]
  },
  {
   "cell_type": "code",
   "execution_count": 25,
   "id": "2347b7f2",
   "metadata": {},
   "outputs": [
    {
     "data": {
      "text/html": [
       "<div>\n",
       "<style scoped>\n",
       "    .dataframe tbody tr th:only-of-type {\n",
       "        vertical-align: middle;\n",
       "    }\n",
       "\n",
       "    .dataframe tbody tr th {\n",
       "        vertical-align: top;\n",
       "    }\n",
       "\n",
       "    .dataframe thead th {\n",
       "        text-align: right;\n",
       "    }\n",
       "</style>\n",
       "<table border=\"1\" class=\"dataframe\">\n",
       "  <thead>\n",
       "    <tr style=\"text-align: right;\">\n",
       "      <th></th>\n",
       "      <th>LRUniqueID</th>\n",
       "      <th>SalePrice</th>\n",
       "      <th>SaleDate</th>\n",
       "      <th>PCUnit</th>\n",
       "      <th>PropertyType</th>\n",
       "      <th>NewBuild</th>\n",
       "      <th>Freehold</th>\n",
       "      <th>PAON</th>\n",
       "      <th>SOAN</th>\n",
       "      <th>Street</th>\n",
       "      <th>Locality</th>\n",
       "      <th>City</th>\n",
       "      <th>District</th>\n",
       "      <th>County</th>\n",
       "      <th>oslaua</th>\n",
       "      <th>lsoa11</th>\n",
       "      <th>oa11</th>\n",
       "      <th>Easting</th>\n",
       "      <th>Northing</th>\n",
       "      <th>Longitude</th>\n",
       "      <th>Latitude</th>\n",
       "      <th>SaleYear</th>\n",
       "      <th>SaleMonth</th>\n",
       "      <th>SaleDay</th>\n",
       "      <th>SaleYearMonth</th>\n",
       "    </tr>\n",
       "  </thead>\n",
       "  <tbody>\n",
       "    <tr>\n",
       "      <th>0</th>\n",
       "      <td>{E0E65E87-B106-4411-961F-05AD44B2466F}</td>\n",
       "      <td>110000</td>\n",
       "      <td>2010-10-01</td>\n",
       "      <td>B19 2AT</td>\n",
       "      <td>Terraced</td>\n",
       "      <td>Established Residential</td>\n",
       "      <td>Freehold</td>\n",
       "      <td>26</td>\n",
       "      <td>NaN</td>\n",
       "      <td>LOZELLS STREET</td>\n",
       "      <td>NaN</td>\n",
       "      <td>BIRMINGHAM</td>\n",
       "      <td>BIRMINGHAM</td>\n",
       "      <td>WEST MIDLANDS</td>\n",
       "      <td>E08000025</td>\n",
       "      <td>E01033628</td>\n",
       "      <td>E00045244</td>\n",
       "      <td>406439</td>\n",
       "      <td>289262</td>\n",
       "      <td>-1.906575</td>\n",
       "      <td>52.501223</td>\n",
       "      <td>2010</td>\n",
       "      <td>10</td>\n",
       "      <td>1</td>\n",
       "      <td>2010.833333</td>\n",
       "    </tr>\n",
       "    <tr>\n",
       "      <th>1</th>\n",
       "      <td>{E086C0A5-F4E8-4511-A1D3-1CFC70324463}</td>\n",
       "      <td>80000</td>\n",
       "      <td>2011-03-31</td>\n",
       "      <td>B36 8QN</td>\n",
       "      <td>Terraced</td>\n",
       "      <td>Established Residential</td>\n",
       "      <td>Freehold</td>\n",
       "      <td>9</td>\n",
       "      <td>NaN</td>\n",
       "      <td>AYRSHIRE CLOSE</td>\n",
       "      <td>NaN</td>\n",
       "      <td>BIRMINGHAM</td>\n",
       "      <td>BIRMINGHAM</td>\n",
       "      <td>WEST MIDLANDS</td>\n",
       "      <td>E08000025</td>\n",
       "      <td>E01009079</td>\n",
       "      <td>E00046081</td>\n",
       "      <td>412719</td>\n",
       "      <td>289832</td>\n",
       "      <td>-1.814042</td>\n",
       "      <td>52.506238</td>\n",
       "      <td>2011</td>\n",
       "      <td>3</td>\n",
       "      <td>31</td>\n",
       "      <td>2011.250000</td>\n",
       "    </tr>\n",
       "    <tr>\n",
       "      <th>2</th>\n",
       "      <td>{3B2CA952-17C1-40DF-B6CB-31710FCA2ACA}</td>\n",
       "      <td>250000</td>\n",
       "      <td>2013-12-06</td>\n",
       "      <td>B28 9PA</td>\n",
       "      <td>Semi-Detached</td>\n",
       "      <td>New Built</td>\n",
       "      <td>Freehold</td>\n",
       "      <td>NaN</td>\n",
       "      <td>11</td>\n",
       "      <td>THE LOXLEYS</td>\n",
       "      <td>NaN</td>\n",
       "      <td>BIRMINGHAM</td>\n",
       "      <td>BIRMINGHAM</td>\n",
       "      <td>WEST MIDLANDS</td>\n",
       "      <td>E08000025</td>\n",
       "      <td>E01032589</td>\n",
       "      <td>E00045887</td>\n",
       "      <td>411333</td>\n",
       "      <td>280447</td>\n",
       "      <td>-1.834778</td>\n",
       "      <td>52.421898</td>\n",
       "      <td>2013</td>\n",
       "      <td>12</td>\n",
       "      <td>6</td>\n",
       "      <td>2014.000000</td>\n",
       "    </tr>\n",
       "    <tr>\n",
       "      <th>3</th>\n",
       "      <td>{5BD504F3-4450-4463-94ED-F6753446F1F4}</td>\n",
       "      <td>127500</td>\n",
       "      <td>2013-09-06</td>\n",
       "      <td>B32 1PT</td>\n",
       "      <td>Terraced</td>\n",
       "      <td>Established Residential</td>\n",
       "      <td>Freehold</td>\n",
       "      <td>98A</td>\n",
       "      <td>NaN</td>\n",
       "      <td>RIDGACRE LANE</td>\n",
       "      <td>QUINTON</td>\n",
       "      <td>BIRMINGHAM</td>\n",
       "      <td>BIRMINGHAM</td>\n",
       "      <td>WEST MIDLANDS</td>\n",
       "      <td>E08000025</td>\n",
       "      <td>E01009249</td>\n",
       "      <td>E00046936</td>\n",
       "      <td>400284</td>\n",
       "      <td>284566</td>\n",
       "      <td>-1.997248</td>\n",
       "      <td>52.459043</td>\n",
       "      <td>2013</td>\n",
       "      <td>9</td>\n",
       "      <td>6</td>\n",
       "      <td>2013.750000</td>\n",
       "    </tr>\n",
       "    <tr>\n",
       "      <th>4</th>\n",
       "      <td>{070F2F07-A6A0-4546-9A9A-1E91518B4F1D}</td>\n",
       "      <td>118000</td>\n",
       "      <td>2012-09-11</td>\n",
       "      <td>B73 6DS</td>\n",
       "      <td>Flats/Mainsonetts</td>\n",
       "      <td>Established Residential</td>\n",
       "      <td>Leasehold</td>\n",
       "      <td>TRENT COURT</td>\n",
       "      <td>FLAT 12</td>\n",
       "      <td>GARRARD GARDENS</td>\n",
       "      <td>NaN</td>\n",
       "      <td>SUTTON COLDFIELD</td>\n",
       "      <td>BIRMINGHAM</td>\n",
       "      <td>WEST MIDLANDS</td>\n",
       "      <td>E08000025</td>\n",
       "      <td>E01009449</td>\n",
       "      <td>E00047879</td>\n",
       "      <td>411779</td>\n",
       "      <td>296094</td>\n",
       "      <td>-1.827671</td>\n",
       "      <td>52.562553</td>\n",
       "      <td>2012</td>\n",
       "      <td>9</td>\n",
       "      <td>11</td>\n",
       "      <td>2012.750000</td>\n",
       "    </tr>\n",
       "  </tbody>\n",
       "</table>\n",
       "</div>"
      ],
      "text/plain": [
       "                               LRUniqueID  SalePrice   SaleDate    PCUnit  \\\n",
       "0  {E0E65E87-B106-4411-961F-05AD44B2466F}     110000 2010-10-01  B19 2AT    \n",
       "1  {E086C0A5-F4E8-4511-A1D3-1CFC70324463}      80000 2011-03-31  B36 8QN    \n",
       "2  {3B2CA952-17C1-40DF-B6CB-31710FCA2ACA}     250000 2013-12-06  B28 9PA    \n",
       "3  {5BD504F3-4450-4463-94ED-F6753446F1F4}     127500 2013-09-06  B32 1PT    \n",
       "4  {070F2F07-A6A0-4546-9A9A-1E91518B4F1D}     118000 2012-09-11  B73 6DS    \n",
       "\n",
       "        PropertyType                 NewBuild   Freehold         PAON  \\\n",
       "0           Terraced  Established Residential   Freehold           26   \n",
       "1           Terraced  Established Residential   Freehold            9   \n",
       "2      Semi-Detached                New Built   Freehold          NaN   \n",
       "3           Terraced  Established Residential   Freehold          98A   \n",
       "4  Flats/Mainsonetts  Established Residential  Leasehold  TRENT COURT   \n",
       "\n",
       "      SOAN           Street Locality              City    District  \\\n",
       "0      NaN   LOZELLS STREET      NaN        BIRMINGHAM  BIRMINGHAM   \n",
       "1      NaN   AYRSHIRE CLOSE      NaN        BIRMINGHAM  BIRMINGHAM   \n",
       "2       11      THE LOXLEYS      NaN        BIRMINGHAM  BIRMINGHAM   \n",
       "3      NaN    RIDGACRE LANE  QUINTON        BIRMINGHAM  BIRMINGHAM   \n",
       "4  FLAT 12  GARRARD GARDENS      NaN  SUTTON COLDFIELD  BIRMINGHAM   \n",
       "\n",
       "          County     oslaua     lsoa11       oa11  Easting  Northing  \\\n",
       "0  WEST MIDLANDS  E08000025  E01033628  E00045244   406439    289262   \n",
       "1  WEST MIDLANDS  E08000025  E01009079  E00046081   412719    289832   \n",
       "2  WEST MIDLANDS  E08000025  E01032589  E00045887   411333    280447   \n",
       "3  WEST MIDLANDS  E08000025  E01009249  E00046936   400284    284566   \n",
       "4  WEST MIDLANDS  E08000025  E01009449  E00047879   411779    296094   \n",
       "\n",
       "   Longitude   Latitude  SaleYear  SaleMonth  SaleDay  SaleYearMonth  \n",
       "0  -1.906575  52.501223      2010         10        1    2010.833333  \n",
       "1  -1.814042  52.506238      2011          3       31    2011.250000  \n",
       "2  -1.834778  52.421898      2013         12        6    2014.000000  \n",
       "3  -1.997248  52.459043      2013          9        6    2013.750000  \n",
       "4  -1.827671  52.562553      2012          9       11    2012.750000  "
      ]
     },
     "execution_count": 25,
     "metadata": {},
     "output_type": "execute_result"
    }
   ],
   "source": [
    "df1.head()"
   ]
  },
  {
   "cell_type": "markdown",
   "id": "901d84c8",
   "metadata": {},
   "source": [
    "### HS2\n",
    "\n",
    "##### WHAT IS HS2 ?\n",
    "High Speed 2 (HS2) is a planned high-speed railway line and network of passenger train services in Great Britain. The new railway line, which is currently under construction in England, is to run between the West Midlands and London, with a spur to Birmingham. A network of train services will use the new line and existing conventional track to reach their destinations in the Midlands, North West England, and Scotland. HS2 is to be Britain's second purpose-built high-speed line after High Speed 1, which connects London to the Channel Tunnel. The majority of the project is planned to be completed between 2029 and 2033\n",
    "\n",
    "Phase 1 is now the whole of the new HS2 track. It will be a high speed line between __Euston railway station__ in London and a junction with the __West Coast Main Line (WCML)__ outside Handsacre, a village to the north of Lichfield in __Staffordshire__, with a branch to a new station at __Birmingham Curzon Street__.[31] There will also be new stations at __Old Oak Common__, in northwest London, and __Birmingham Interchange__, near __Solihull__.[32] The section between Old Oak Common and the West Midlands is scheduled to open around 2030, with the link to Euston following between 2031 and 2035.[33] The phase 1 high speed track, including the branch to Birmingham, is 225 kilometres (140 mi) long.[34][35][1] It is flanked by the WCML and the __Chiltern Line__.\n",
    "\n",
    "__For more details you can visit:__ https://en.wikipedia.org/wiki/High_Speed_2\n"
   ]
  },
  {
   "cell_type": "markdown",
   "id": "492a99fb",
   "metadata": {},
   "source": [
    "- One of the first things I looked to analyse was whether the distance from the station had any bearing on the house price changes. The function below can calcuate the distance between a property and the HS2 station, we use this to add a new column to the data with this distance."
   ]
  },
  {
   "cell_type": "code",
   "execution_count": 26,
   "id": "34934239",
   "metadata": {},
   "outputs": [],
   "source": [
    "#https://en.wikipedia.org/wiki/Birmingham_Curzon_Street_railway_station\n",
    "hs2_station_coords = (52.4756314308,  -1.88515312604)  "
   ]
  },
  {
   "cell_type": "code",
   "execution_count": 27,
   "id": "df1e1264",
   "metadata": {},
   "outputs": [
    {
     "name": "stdout",
     "output_type": "stream",
     "text": [
      "The distance between the first property in the dataset and HS2 is 3.2km.\n"
     ]
    }
   ],
   "source": [
    "first_property_coords = (df1['Latitude'][0], df1['Longitude'][0])\n",
    "\n",
    "hs2_property_distance = geopy.distance.geodesic(hs2_station_coords, first_property_coords).km\n",
    "\n",
    "print('The distance between the first property in the dataset and HS2 is ' \n",
    "      + str(round(hs2_property_distance,1))\n",
    "      +'km.')\n"
   ]
  },
  {
   "cell_type": "markdown",
   "id": "fec84202",
   "metadata": {},
   "source": [
    "- One theory about how HS2 will increase house prices in Birmingham is that more people will be able live in Birmingham and commute into London. People who will be doing this will want to live close to the station so lets make flag for whether people are within reasonable walking distance to the HS2 station.\n",
    "\n",
    "- The mean distance walked to a train station by people in the UK is ~1k [1]. Lets add a flag for a whether a property is within a reasonable walking distance of the station."
   ]
  },
  {
   "cell_type": "code",
   "execution_count": 28,
   "id": "84be399c",
   "metadata": {},
   "outputs": [],
   "source": [
    "df1['Distance_from_HS2_km'] = df1.apply(lambda x: geopy.distance.geodesic(\n",
    "                                                    hs2_station_coords, (x['Latitude'],x['Longitude'])).km, axis=1)"
   ]
  },
  {
   "cell_type": "code",
   "execution_count": 29,
   "id": "94f1b969",
   "metadata": {
    "scrolled": true
   },
   "outputs": [],
   "source": [
    "df1['Less_than_1k_away'] = df1.apply(lambda x: 1 if x['Distance_from_HS2_km'] < 1 else 0, axis=1)"
   ]
  },
  {
   "cell_type": "markdown",
   "id": "423978cf",
   "metadata": {},
   "source": [
    "- HS2 was proposed in 10th January 2012 \n",
    "- Approved by parliment in 23rd Feburary 2017. \n",
    "Lets add flags for whether the property was sold after these dates."
   ]
  },
  {
   "cell_type": "markdown",
   "id": "c5e58bb6",
   "metadata": {},
   "source": [
    "<br> <br>[1]:https://www.gov.uk/government/news/britain-to-have-new-national-high-speed-rail-network <br>[2]:https://www.gov.uk/government/collections/high-speed-rail-london-west-midlands-bill"
   ]
  },
  {
   "cell_type": "code",
   "execution_count": 30,
   "id": "554ce48c",
   "metadata": {},
   "outputs": [],
   "source": [
    "# here adding two columns 'Sale_after_hs2_proposal' and 'Sale_after_hs2_approval',were we will get the count of each\n",
    "df1['Sale_after_hs2_proposal'] = df1.apply(lambda x: 1 if x['SaleDate'] >= \n",
    "                                                datetime.strptime('2012-01-10', '%Y-%m-%d') else 0, axis=1)\n",
    "\n",
    "df1['Sale_after_hs2_approval'] = df1.apply(lambda x: 1 if x['SaleDate'] >= \n",
    "                                                datetime.strptime('2017-02-23', '%Y-%m-%d') else 0, axis=1)"
   ]
  },
  {
   "cell_type": "code",
   "execution_count": 31,
   "id": "036376a5",
   "metadata": {},
   "outputs": [
    {
     "data": {
      "text/html": [
       "<div>\n",
       "<style scoped>\n",
       "    .dataframe tbody tr th:only-of-type {\n",
       "        vertical-align: middle;\n",
       "    }\n",
       "\n",
       "    .dataframe tbody tr th {\n",
       "        vertical-align: top;\n",
       "    }\n",
       "\n",
       "    .dataframe thead th {\n",
       "        text-align: right;\n",
       "    }\n",
       "</style>\n",
       "<table border=\"1\" class=\"dataframe\">\n",
       "  <thead>\n",
       "    <tr style=\"text-align: right;\">\n",
       "      <th></th>\n",
       "      <th>LRUniqueID</th>\n",
       "      <th>SalePrice</th>\n",
       "      <th>SaleDate</th>\n",
       "      <th>PCUnit</th>\n",
       "      <th>PropertyType</th>\n",
       "      <th>NewBuild</th>\n",
       "      <th>Freehold</th>\n",
       "      <th>PAON</th>\n",
       "      <th>SOAN</th>\n",
       "      <th>Street</th>\n",
       "      <th>Locality</th>\n",
       "      <th>City</th>\n",
       "      <th>District</th>\n",
       "      <th>County</th>\n",
       "      <th>oslaua</th>\n",
       "      <th>lsoa11</th>\n",
       "      <th>oa11</th>\n",
       "      <th>Easting</th>\n",
       "      <th>Northing</th>\n",
       "      <th>Longitude</th>\n",
       "      <th>Latitude</th>\n",
       "      <th>SaleYear</th>\n",
       "      <th>SaleMonth</th>\n",
       "      <th>SaleDay</th>\n",
       "      <th>SaleYearMonth</th>\n",
       "      <th>Distance_from_HS2_km</th>\n",
       "      <th>Less_than_1k_away</th>\n",
       "      <th>Sale_after_hs2_proposal</th>\n",
       "      <th>Sale_after_hs2_approval</th>\n",
       "    </tr>\n",
       "  </thead>\n",
       "  <tbody>\n",
       "    <tr>\n",
       "      <th>0</th>\n",
       "      <td>{E0E65E87-B106-4411-961F-05AD44B2466F}</td>\n",
       "      <td>110000</td>\n",
       "      <td>2010-10-01</td>\n",
       "      <td>B19 2AT</td>\n",
       "      <td>Terraced</td>\n",
       "      <td>Established Residential</td>\n",
       "      <td>Freehold</td>\n",
       "      <td>26</td>\n",
       "      <td>NaN</td>\n",
       "      <td>LOZELLS STREET</td>\n",
       "      <td>NaN</td>\n",
       "      <td>BIRMINGHAM</td>\n",
       "      <td>BIRMINGHAM</td>\n",
       "      <td>WEST MIDLANDS</td>\n",
       "      <td>E08000025</td>\n",
       "      <td>E01033628</td>\n",
       "      <td>E00045244</td>\n",
       "      <td>406439</td>\n",
       "      <td>289262</td>\n",
       "      <td>-1.906575</td>\n",
       "      <td>52.501223</td>\n",
       "      <td>2010</td>\n",
       "      <td>10</td>\n",
       "      <td>1</td>\n",
       "      <td>2010.833333</td>\n",
       "      <td>3.197982</td>\n",
       "      <td>0</td>\n",
       "      <td>0</td>\n",
       "      <td>0</td>\n",
       "    </tr>\n",
       "    <tr>\n",
       "      <th>1</th>\n",
       "      <td>{E086C0A5-F4E8-4511-A1D3-1CFC70324463}</td>\n",
       "      <td>80000</td>\n",
       "      <td>2011-03-31</td>\n",
       "      <td>B36 8QN</td>\n",
       "      <td>Terraced</td>\n",
       "      <td>Established Residential</td>\n",
       "      <td>Freehold</td>\n",
       "      <td>9</td>\n",
       "      <td>NaN</td>\n",
       "      <td>AYRSHIRE CLOSE</td>\n",
       "      <td>NaN</td>\n",
       "      <td>BIRMINGHAM</td>\n",
       "      <td>BIRMINGHAM</td>\n",
       "      <td>WEST MIDLANDS</td>\n",
       "      <td>E08000025</td>\n",
       "      <td>E01009079</td>\n",
       "      <td>E00046081</td>\n",
       "      <td>412719</td>\n",
       "      <td>289832</td>\n",
       "      <td>-1.814042</td>\n",
       "      <td>52.506238</td>\n",
       "      <td>2011</td>\n",
       "      <td>3</td>\n",
       "      <td>31</td>\n",
       "      <td>2011.250000</td>\n",
       "      <td>5.910157</td>\n",
       "      <td>0</td>\n",
       "      <td>0</td>\n",
       "      <td>0</td>\n",
       "    </tr>\n",
       "  </tbody>\n",
       "</table>\n",
       "</div>"
      ],
      "text/plain": [
       "                               LRUniqueID  SalePrice   SaleDate    PCUnit  \\\n",
       "0  {E0E65E87-B106-4411-961F-05AD44B2466F}     110000 2010-10-01  B19 2AT    \n",
       "1  {E086C0A5-F4E8-4511-A1D3-1CFC70324463}      80000 2011-03-31  B36 8QN    \n",
       "\n",
       "  PropertyType                 NewBuild  Freehold PAON SOAN          Street  \\\n",
       "0     Terraced  Established Residential  Freehold   26  NaN  LOZELLS STREET   \n",
       "1     Terraced  Established Residential  Freehold    9  NaN  AYRSHIRE CLOSE   \n",
       "\n",
       "  Locality        City    District         County     oslaua     lsoa11  \\\n",
       "0      NaN  BIRMINGHAM  BIRMINGHAM  WEST MIDLANDS  E08000025  E01033628   \n",
       "1      NaN  BIRMINGHAM  BIRMINGHAM  WEST MIDLANDS  E08000025  E01009079   \n",
       "\n",
       "        oa11  Easting  Northing  Longitude   Latitude  SaleYear  SaleMonth  \\\n",
       "0  E00045244   406439    289262  -1.906575  52.501223      2010         10   \n",
       "1  E00046081   412719    289832  -1.814042  52.506238      2011          3   \n",
       "\n",
       "   SaleDay  SaleYearMonth  Distance_from_HS2_km  Less_than_1k_away  \\\n",
       "0        1    2010.833333              3.197982                  0   \n",
       "1       31    2011.250000              5.910157                  0   \n",
       "\n",
       "   Sale_after_hs2_proposal  Sale_after_hs2_approval  \n",
       "0                        0                        0  \n",
       "1                        0                        0  "
      ]
     },
     "execution_count": 31,
     "metadata": {},
     "output_type": "execute_result"
    }
   ],
   "source": [
    "df1.head(2)"
   ]
  },
  {
   "cell_type": "markdown",
   "id": "669d2d18",
   "metadata": {},
   "source": [
    "### 1) Has the construction and development of HS2 led to any noticeable impact on property sales?"
   ]
  },
  {
   "cell_type": "code",
   "execution_count": 32,
   "id": "553ca211",
   "metadata": {},
   "outputs": [
    {
     "name": "stdout",
     "output_type": "stream",
     "text": [
      "2009-01-02 00:00:00\n",
      "2019-11-26 00:00:00\n"
     ]
    }
   ],
   "source": [
    "# This calculates the minimum value of the 'SaleDate' column.\n",
    "print(min(df1['SaleDate']))\n",
    "# This calculates the maximum value of the 'SaleDate' column.\n",
    "print(max(df1['SaleDate']))"
   ]
  },
  {
   "cell_type": "code",
   "execution_count": 33,
   "id": "ae0a04c8",
   "metadata": {},
   "outputs": [],
   "source": [
    "#Group by year and count how many are in each group\n",
    "df_sale_count = df1[['SaleYear','LRUniqueID']].groupby(['SaleYear']).count()"
   ]
  },
  {
   "cell_type": "code",
   "execution_count": 34,
   "id": "b90170c7",
   "metadata": {},
   "outputs": [],
   "source": [
    "df_sale_count = df_sale_count['LRUniqueID']"
   ]
  },
  {
   "cell_type": "code",
   "execution_count": 35,
   "id": "052b475a",
   "metadata": {},
   "outputs": [],
   "source": [
    "#Lets assume sales are consistent throughout the year, as 329 days have passed already we need to scale up by 365/329\n",
    "df_sale_count[2019] = df_sale_count[2019] * (365/329)"
   ]
  },
  {
   "cell_type": "code",
   "execution_count": 36,
   "id": "aed34e52",
   "metadata": {},
   "outputs": [
    {
     "data": {
      "image/png": "[encoded data removed]",
      "text/plain": [
       "<Figure size 900x900 with 1 Axes>"
      ]
     },
     "metadata": {},
     "output_type": "display_data"
    }
   ],
   "source": [
    "# Importing the required libraries\n",
    "from matplotlib.pyplot import figure\n",
    "import matplotlib.patches as mpatches\n",
    "\n",
    "# This line initializes a new figure for the plot\n",
    "figure(num=None, figsize=(10, 10), dpi=90, facecolor='w', edgecolor='k')\n",
    "\n",
    "# Defines a blue patch for the legend representing the general trend of \"Number of property sales in the Birmingham area.\n",
    "blue_patch = mpatches.Patch(color='blue', label='Number of property sales in the Birmingham area')\n",
    "black_patch = mpatches.Patch(color='black', label='HS2 is approved by parliment', linestyle='--')\n",
    "red_patch = mpatches.Patch(color='red', label='HS2 is announced', linestyle='--')\n",
    "purple_patch = mpatches.Patch(color='purple', label='Brexit referendum result', linestyle='--')\n",
    "\n",
    "# This line creates a legend (leg) using the defined patches,The handlelength parameter adjusts the length.\n",
    "leg = plt.legend(handles=[blue_patch, red_patch, purple_patch, black_patch],handlelength=4)\n",
    "\n",
    "# These lines extract the index and values from the DataFrame\n",
    "X = df_sale_count.index\n",
    "Y = df_sale_count.values\n",
    "\n",
    "plt.plot(X, Y, color='blue')\n",
    "\n",
    "# These lines add vertical dashed lines at specific years (2012, 2017, and 2016) to highlight key events\n",
    "plt.axvline(x=2012, color='red', linestyle='--')\n",
    "plt.axvline(x=2017, color='black', linestyle='--')\n",
    "plt.axvline(x=2016, color='purple', linestyle='--')\n",
    "\n",
    "#Sets the y-axis limits to ensure a proper display of data\n",
    "plt.ylim(0, 13500)\n",
    "\n",
    "# Labels the y-axis as \"Number of property sales\" and the x-axis as \"Year.\n",
    "plt.ylabel('Number of property sales')\n",
    "plt.xlabel('Year')\n",
    "\n",
    "plt.show()"
   ]
  },
  {
   "cell_type": "markdown",
   "id": "0b8cc9c6",
   "metadata": {},
   "source": [
    "It seems that there was a significant surge in property sales after the HS2 (High-Speed 2) announcement, and this increased level of sales continued for several years. However, it is challenging to conclusively attribute this rise directly to the HS2 announcement without comparing it to the total property sales in the entire UK.\n",
    "\n",
    "The lower property sales observed between 2009 and 2012 might be a result of the lingering impact of the financial crisis. However, it's challenging to validate this hypothesis without having access to data from the period before the financial crisis. The absence of pre-crisis data makes it difficult to establish a clear comparison and draw definitive conclusions about the relationship between the financial crisis and the observed low sales levels during that period.\n"
   ]
  },
  {
   "cell_type": "markdown",
   "id": "ece745c3",
   "metadata": {},
   "source": [
    "### 2) What impact has the HS2 project had on property values in various neighborhoods surrounding Birmingham?"
   ]
  },
  {
   "cell_type": "markdown",
   "id": "f8a8fecb",
   "metadata": {},
   "source": [
    "First lets look at how much property prices have changed on a postcode level after HS2 was announced."
   ]
  },
  {
   "cell_type": "code",
   "execution_count": 37,
   "id": "d3500f65",
   "metadata": {},
   "outputs": [],
   "source": [
    "#First filter data so that only Birmingham properties are included in analysis\n",
    "df_bham_only = df1[df1['City'] == 'BIRMINGHAM']\n",
    "df_non_bham_only = df1[df1['City'] != 'BIRMINGHAM']"
   ]
  },
  {
   "cell_type": "code",
   "execution_count": 38,
   "id": "e7bc6f1c",
   "metadata": {},
   "outputs": [
    {
     "data": {
      "text/plain": [
       "11855.382157626764"
      ]
     },
     "execution_count": 38,
     "metadata": {},
     "output_type": "execute_result"
    }
   ],
   "source": [
    "# This line first selects three columns from the DataFrame\n",
    "# Then, it groups the data by the columns 'Sale_after_hs2_proposal' and 'PCUnit'\n",
    "# Finally, it calculates the mean of the 'SalePrice' for each group, resulting in a DataFrame (df_postcode_price) \n",
    "# with the average sale prices for different postal units ('PCUnit') before and after the HS2 proposal.\n",
    "df_postcode_price = df_bham_only[['SalePrice','PCUnit','Sale_after_hs2_proposal']].groupby(['Sale_after_hs2_proposal','PCUnit']).mean()\n",
    "\n",
    "#These lines extract the average sale prices before and after the HS2 proposal from the grouped DataFrame.\n",
    "df_postcode_price_before = df_postcode_price['SalePrice'][0]\n",
    "df_postcode_price_after = df_postcode_price['SalePrice'][1]\n",
    "\n",
    "# creates a new DataFrame by merging the two DataFrames using an inner join.\n",
    "df_postcode_price_joined = pd.DataFrame(df_postcode_price_before).merge(df_postcode_price_after,how='inner',\n",
    "                                                          left_index=True,right_index=True,validate='1:1')\n",
    "\n",
    "df_postcode_price_joined['PriceIncrease'] = df_postcode_price_joined['SalePrice_y'] - df_postcode_price_joined['SalePrice_x']\n",
    "df_postcode_price_joined['PriceIncrease'].mean()"
   ]
  },
  {
   "cell_type": "markdown",
   "id": "018e6c24",
   "metadata": {},
   "source": [
    "There has been an observed average increase of `£11,855` in property prices between sales that occurred before and after the HS2 announcement. If more time were available, an interesting avenue to explore would be creating a heatmap overlaid on a satellite image of Birmingham. This heatmap would visually represent the variations in property price changes across different areas based on postcodes, providing a spatial perspective on the impact of the HS2 announcement on property values in the city.\n",
    "\n",
    "Next, lets plot a graph that looks at average property prices across broader areas in Birmingham on a yearly basis."
   ]
  },
  {
   "cell_type": "markdown",
   "id": "ecb59736",
   "metadata": {},
   "source": [
    " \"\"\"Takes a pandas series and calculates the\n",
    "    percentage change between each value in the series\n",
    "\n",
    "    Keyword arguments:\n",
    "    df - A pandas series with numerical data\n",
    "    \n",
    "    Returns:\n",
    "    percent_changes - An array that contains the percent change for each value\n",
    "    \"\"\""
   ]
  },
  {
   "cell_type": "code",
   "execution_count": 39,
   "id": "2b9e4924",
   "metadata": {},
   "outputs": [],
   "source": [
    "#Function that can calculate the percentage change in sequential data\n",
    "def get_percent_changes(df):\n",
    "    \n",
    "    percent_changes = []\n",
    "    for i in range(len(df)):\n",
    "        if i in (0,11):\n",
    "            percent_changes.append('N/A')\n",
    "        else:\n",
    "            percent_change = (( (df.values[i]-df.values[i-1]) / df.values[i-1]) * 100)\n",
    "            percent_changes.append(float(np.round(percent_change,2)))\n",
    "    return percent_changes"
   ]
  },
  {
   "cell_type": "markdown",
   "id": "4a54cb6b",
   "metadata": {},
   "source": [
    "- Average house price in the Uk by year 2009 - 2019 to mimic our data"
   ]
  },
  {
   "cell_type": "markdown",
   "id": "d6a7057d",
   "metadata": {},
   "source": [
    "<br>[1]:https://www.ons.gov.uk/economy/inflationandpriceindices/bulletins/housepriceindex/june2019"
   ]
  },
  {
   "cell_type": "code",
   "execution_count": 40,
   "id": "6aaccff9",
   "metadata": {},
   "outputs": [],
   "source": [
    "avg_uk_house_prices = [\n",
    "                        161147.916666667, \n",
    "                        170364.583333333,\n",
    "                        167888.416666667,\n",
    "                        168555.666666667,\n",
    "                        161147.916666667,\n",
    "                        186769.75,\n",
    "                        197889.666666667,\n",
    "                        211685.333333333,\n",
    "                        221239.75,\n",
    "                        227833.083333333,\n",
    "                        228443.166666667]"
   ]
  },
  {
   "cell_type": "code",
   "execution_count": 41,
   "id": "3a3f8626",
   "metadata": {},
   "outputs": [],
   "source": [
    "#First filter data so that only Birmhingham properties are included in analysis.\n",
    "df_bham_only = df1[df1['City'] == 'BIRMINGHAM']\n",
    "df_non_bham_only = df1[df1['City'] != 'BIRMINGHAM']\n"
   ]
  },
  {
   "cell_type": "code",
   "execution_count": 42,
   "id": "fad7b85a",
   "metadata": {},
   "outputs": [],
   "source": [
    "# It first selects three columns from the original DataFrame.\n",
    "# Then, it groups the data based on two columns.\n",
    "# Finally, it calculates the mean sale price for each group, giving the average sale price for properties within 1 kilometer.\n",
    "df_price_trend_close = df_bham_only[['SalePrice','Less_than_1k_away','SaleYear']].groupby(['Less_than_1k_away','SaleYear']).mean()\n",
    "\n",
    "#It groups the data based only on the 'SaleYear' column,The mean sale price for each year is calculated.\n",
    "df_price_trend_all = df_bham_only[['SalePrice','SaleYear']].groupby(['SaleYear']).mean()\n",
    "df_price_trend_non_bham = df_non_bham_only[['SalePrice','SaleYear']].groupby(['SaleYear']).mean()"
   ]
  },
  {
   "cell_type": "code",
   "execution_count": 43,
   "id": "4c366e31",
   "metadata": {},
   "outputs": [],
   "source": [
    "# It calculates the percentage change for the 'SalePrice' column.\n",
    "\n",
    "df_price_trend_close['Percent_change'] = get_percent_changes(df_price_trend_close['SalePrice'])\n",
    "df_price_trend_all['Percent_change'] = get_percent_changes(df_price_trend_all['SalePrice'])\n",
    "df_price_trend_non_bham['Percent_change'] = get_percent_changes(df_price_trend_non_bham['SalePrice'])\n",
    "pct_chg_UK_avg = get_percent_changes(pd.DataFrame(avg_uk_house_prices))"
   ]
  },
  {
   "cell_type": "code",
   "execution_count": 44,
   "id": "645e07e6",
   "metadata": {},
   "outputs": [
    {
     "data": {
      "image/png": "[encoded data removed]",
      "text/plain": [
       "<Figure size 900x900 with 1 Axes>"
      ]
     },
     "metadata": {},
     "output_type": "display_data"
    }
   ],
   "source": [
    "# Initializes a new figure for the plot with specified parameters like size, dots per inch, and background color\n",
    "figure(num=None, figsize=(10, 10), dpi=90, facecolor='w', edgecolor='k')\n",
    "\n",
    "# These lines create patches with different colors and labels for the legend\n",
    "blue_patch = mpatches.Patch(color='blue', label='Average property price in Birmingham')\n",
    "orange_patch = mpatches.Patch(color='orange', label='Average property price <1km from Birmingham HS2 Station')\n",
    "green_patch = mpatches.Patch(color='green', label='Average UK property price')\n",
    "cyan_patch = mpatches.Patch(color='cyan', label='Average property price of areas surrounding Birmingham')\n",
    "black_patch = mpatches.Patch(color='black', label='HS2 is approved by parliment', linestyle='--')\n",
    "red_patch = mpatches.Patch(color='red', label='HS2 is announced', linestyle='--')\n",
    "purple_patch = mpatches.Patch(color='purple', label='Brexit referendum result', linestyle='--')\n",
    "\n",
    "# Creates a legend using the defined patches with a specified handle length.\n",
    "leg = plt.legend(handles=[green_patch, blue_patch, cyan_patch, \n",
    "                          orange_patch, red_patch, purple_patch, black_patch],handlelength=4)\n",
    "\n",
    "# Extracts the index (presumably years) from the 'SalePrice' column of the DataFrame df_price_trend_all.\n",
    "X = df_price_trend_all['SalePrice'].index\n",
    "\n",
    "# Extracts average property prices for all properties in Birmingham, \n",
    "# non-Birmingham properties, and properties within 1 km of Birmingham HS2 Station, respectively.\n",
    "Y_all = df_price_trend_all['SalePrice'].values\n",
    "Y_non_bham = df_price_trend_non_bham['SalePrice'].values\n",
    "Y_close = df_price_trend_close['SalePrice'][1].values\n",
    "\n",
    "# Plotting Data.\n",
    "plt.plot(X, Y_all, color='blue')\n",
    "plt.plot(X, Y_non_bham, color='cyan')\n",
    "plt.plot(X, Y_close, color='orange')\n",
    "plt.plot(X, avg_uk_house_prices, color='green')\n",
    "\n",
    "# To add vertical dashed lines at specific years (2012, 2017, and 2016) to denote events related to HS2 and Brexit.\n",
    "plt.axvline(x=2012, color='red', linestyle='--')\n",
    "plt.axvline(x=2017, color='black', linestyle='--')\n",
    "plt.axvline(x=2016, color='purple', linestyle='--')\n",
    "       \n",
    "plt.ylabel('Average property price (£)')\n",
    "plt.xlabel('Year')\n",
    "\n",
    "plt.show()"
   ]
  },
  {
   "cell_type": "markdown",
   "id": "5158c963",
   "metadata": {},
   "source": [
    " There is a consistent upward trend in property prices across all areas displayed. However, it is noteworthy to delve deeper into the years post-2017. During this period, the rate of price increases in both the UK and Birmingham starts to decelerate. Despite this general trend, properties situated in close proximity to the HS2 station continue to experience substantial and rapid price growth. Below are the specific numerical percentage increases for these areas, providing a more detailed insight into the varying trajectories of property values."
   ]
  },
  {
   "cell_type": "code",
   "execution_count": 45,
   "id": "a0da2202",
   "metadata": {},
   "outputs": [
    {
     "data": {
      "image/png": "[encoded data removed]",
      "text/plain": [
       "<Figure size 630x630 with 2 Axes>"
      ]
     },
     "metadata": {},
     "output_type": "display_data"
    }
   ],
   "source": [
    "# Initializes a new figure for the heatmap with specified parameters like size, dots per inch, and background color.\n",
    "figure(num=None, figsize=(7,7), dpi=90, facecolor='w', edgecolor='k')\n",
    "\n",
    "# This line creates a NumPy array (price_increase_data) containing percentage change data.\n",
    "price_increase_data = np.array([df_price_trend_close['Percent_change'][1][[2017,2018,2019]].values, \n",
    "                                df_price_trend_non_bham['Percent_change'][[2017,2018,2019]].values,\n",
    "                                df_price_trend_all['Percent_change'][[2017,2018,2019]].values,\n",
    "                                [pct_chg_UK_avg[8], pct_chg_UK_avg[9], pct_chg_UK_avg[10]]])\n",
    "\n",
    "# Converts the data in the price_increase_data array to float type, ensuring compatibility for plotting.\n",
    "price_increase_data = price_increase_data.astype(float)\n",
    "\n",
    "# Uses the Seaborn (sns) library to create a heatmap (ax).\n",
    "# The price_increase_data array is used as the data source, and linewidth=0.5 sets the width of the lines between cells.\n",
    "ax = sns.heatmap(price_increase_data, linewidth=0.5)\n",
    "ax.set_xticklabels(['2017','2018','2019'])\n",
    "ax.set_yticklabels(['<1km','Non-Bham','BHam','UK'])\n",
    "plt.show()"
   ]
  },
  {
   "cell_type": "markdown",
   "id": "6b7251e6",
   "metadata": {},
   "source": [
    "The overall trend suggests that property prices in Birmingham are closely mirroring the broader pattern observed across the entire UK. As of now, it appears that the HS2 announcement has not exerted a substantial influence on property prices in Birmingham. However, it is acknowledged that this dynamic may undergo a shift once the HS2 line becomes operational. The full impact of the HS2 project on property prices might only become apparent post-implementation\n",
    "\n",
    "Properties located within walking distance of the upcoming HS2 station have experienced price increases that exceed the average seen across the entire UK in recent years. It is anticipated that this trend will persist and potentially intensify as the HS2 project nears completion, provided that the project continues to progress as expected. The expectation is that the proximity to the HS2 station will contribute to continued positive growth in property values for these specific areas"
   ]
  },
  {
   "cell_type": "markdown",
   "id": "8b16a00b",
   "metadata": {},
   "source": [
    "### 3) Has the construction of HS2 influenced the quantity of residential properties developed in the vicinity?"
   ]
  },
  {
   "cell_type": "code",
   "execution_count": 46,
   "id": "cbf1e200",
   "metadata": {},
   "outputs": [
    {
     "data": {
      "text/html": [
       "<div>\n",
       "<style scoped>\n",
       "    .dataframe tbody tr th:only-of-type {\n",
       "        vertical-align: middle;\n",
       "    }\n",
       "\n",
       "    .dataframe tbody tr th {\n",
       "        vertical-align: top;\n",
       "    }\n",
       "\n",
       "    .dataframe thead th {\n",
       "        text-align: right;\n",
       "    }\n",
       "</style>\n",
       "<table border=\"1\" class=\"dataframe\">\n",
       "  <thead>\n",
       "    <tr style=\"text-align: right;\">\n",
       "      <th></th>\n",
       "      <th>Code</th>\n",
       "      <th>GEOG</th>\n",
       "      <th>Name</th>\n",
       "      <th>Pre_1900</th>\n",
       "      <th>1900_1918</th>\n",
       "      <th>1919_1929</th>\n",
       "      <th>1930_1939</th>\n",
       "      <th>1945_1954</th>\n",
       "      <th>1955_1964</th>\n",
       "      <th>1965_1972</th>\n",
       "      <th>1973_1982</th>\n",
       "      <th>1983_1992</th>\n",
       "      <th>1993_1999</th>\n",
       "      <th>2000_2009</th>\n",
       "      <th>2010_Present</th>\n",
       "      <th>UNKNOWN</th>\n",
       "      <th>Year</th>\n",
       "    </tr>\n",
       "  </thead>\n",
       "  <tbody>\n",
       "    <tr>\n",
       "      <th>0</th>\n",
       "      <td>E01008897</td>\n",
       "      <td>LSOA</td>\n",
       "      <td>Birmingham 067B</td>\n",
       "      <td>0</td>\n",
       "      <td>20</td>\n",
       "      <td>430</td>\n",
       "      <td>0</td>\n",
       "      <td>0</td>\n",
       "      <td>10</td>\n",
       "      <td>0</td>\n",
       "      <td>130</td>\n",
       "      <td>10</td>\n",
       "      <td>0</td>\n",
       "      <td>0</td>\n",
       "      <td>10</td>\n",
       "      <td>0</td>\n",
       "      <td>2019</td>\n",
       "    </tr>\n",
       "    <tr>\n",
       "      <th>1</th>\n",
       "      <td>E01008899</td>\n",
       "      <td>LSOA</td>\n",
       "      <td>Birmingham 037A</td>\n",
       "      <td>60</td>\n",
       "      <td>70</td>\n",
       "      <td>0</td>\n",
       "      <td>60</td>\n",
       "      <td>0</td>\n",
       "      <td>30</td>\n",
       "      <td>160</td>\n",
       "      <td>120</td>\n",
       "      <td>50</td>\n",
       "      <td>0</td>\n",
       "      <td>0</td>\n",
       "      <td>10</td>\n",
       "      <td>10</td>\n",
       "      <td>2019</td>\n",
       "    </tr>\n",
       "  </tbody>\n",
       "</table>\n",
       "</div>"
      ],
      "text/plain": [
       "        Code  GEOG             Name  Pre_1900  1900_1918  1919_1929  \\\n",
       "0  E01008897  LSOA  Birmingham 067B         0         20        430   \n",
       "1  E01008899  LSOA  Birmingham 037A        60         70          0   \n",
       "\n",
       "   1930_1939  1945_1954  1955_1964  1965_1972  1973_1982  1983_1992  \\\n",
       "0          0          0         10          0        130         10   \n",
       "1         60          0         30        160        120         50   \n",
       "\n",
       "   1993_1999  2000_2009  2010_Present  UNKNOWN  Year  \n",
       "0          0          0            10        0  2019  \n",
       "1          0          0            10       10  2019  "
      ]
     },
     "execution_count": 46,
     "metadata": {},
     "output_type": "execute_result"
    }
   ],
   "source": [
    "# Reading the 'age' Dataset and showing first few lines of dataset.\n",
    "age = pd.read_csv(\"VOA Property Age Data.csv\")\n",
    "age.head(2)"
   ]
  },
  {
   "cell_type": "code",
   "execution_count": 47,
   "id": "8730ec91",
   "metadata": {},
   "outputs": [],
   "source": [
    "#Use the data gathered in 2019\n",
    "df_age_newest = age[age['Year']==2019] \n",
    "df_sales = pd.DataFrame(df_age_newest.drop(columns=['Code','GEOG','Name','UNKNOWN','Year']).sum())"
   ]
  },
  {
   "cell_type": "code",
   "execution_count": 48,
   "id": "93795891",
   "metadata": {},
   "outputs": [
    {
     "data": {
      "text/html": [
       "<div>\n",
       "<style scoped>\n",
       "    .dataframe tbody tr th:only-of-type {\n",
       "        vertical-align: middle;\n",
       "    }\n",
       "\n",
       "    .dataframe tbody tr th {\n",
       "        vertical-align: top;\n",
       "    }\n",
       "\n",
       "    .dataframe thead th {\n",
       "        text-align: right;\n",
       "    }\n",
       "</style>\n",
       "<table border=\"1\" class=\"dataframe\">\n",
       "  <thead>\n",
       "    <tr style=\"text-align: right;\">\n",
       "      <th></th>\n",
       "      <th>0</th>\n",
       "      <th>Lower_range</th>\n",
       "      <th>Upper_range</th>\n",
       "      <th>Avg_sales_per_year</th>\n",
       "    </tr>\n",
       "  </thead>\n",
       "  <tbody>\n",
       "    <tr>\n",
       "      <th>1900_1918</th>\n",
       "      <td>37100</td>\n",
       "      <td>1900</td>\n",
       "      <td>1918</td>\n",
       "      <td>2061.0</td>\n",
       "    </tr>\n",
       "    <tr>\n",
       "      <th>1919_1929</th>\n",
       "      <td>49360</td>\n",
       "      <td>1919</td>\n",
       "      <td>1929</td>\n",
       "      <td>4936.0</td>\n",
       "    </tr>\n",
       "    <tr>\n",
       "      <th>1930_1939</th>\n",
       "      <td>76320</td>\n",
       "      <td>1930</td>\n",
       "      <td>1939</td>\n",
       "      <td>8480.0</td>\n",
       "    </tr>\n",
       "    <tr>\n",
       "      <th>1945_1954</th>\n",
       "      <td>28990</td>\n",
       "      <td>1945</td>\n",
       "      <td>1954</td>\n",
       "      <td>3221.0</td>\n",
       "    </tr>\n",
       "    <tr>\n",
       "      <th>1955_1964</th>\n",
       "      <td>34230</td>\n",
       "      <td>1955</td>\n",
       "      <td>1964</td>\n",
       "      <td>3803.0</td>\n",
       "    </tr>\n",
       "    <tr>\n",
       "      <th>1965_1972</th>\n",
       "      <td>43960</td>\n",
       "      <td>1965</td>\n",
       "      <td>1972</td>\n",
       "      <td>6280.0</td>\n",
       "    </tr>\n",
       "    <tr>\n",
       "      <th>1973_1982</th>\n",
       "      <td>34050</td>\n",
       "      <td>1973</td>\n",
       "      <td>1982</td>\n",
       "      <td>3783.0</td>\n",
       "    </tr>\n",
       "    <tr>\n",
       "      <th>1983_1992</th>\n",
       "      <td>17510</td>\n",
       "      <td>1983</td>\n",
       "      <td>1992</td>\n",
       "      <td>1946.0</td>\n",
       "    </tr>\n",
       "    <tr>\n",
       "      <th>1993_1999</th>\n",
       "      <td>14720</td>\n",
       "      <td>1993</td>\n",
       "      <td>1999</td>\n",
       "      <td>2453.0</td>\n",
       "    </tr>\n",
       "    <tr>\n",
       "      <th>2000_2009</th>\n",
       "      <td>27510</td>\n",
       "      <td>2000</td>\n",
       "      <td>2009</td>\n",
       "      <td>3057.0</td>\n",
       "    </tr>\n",
       "    <tr>\n",
       "      <th>2010_Present</th>\n",
       "      <td>20510</td>\n",
       "      <td>2010</td>\n",
       "      <td>2020</td>\n",
       "      <td>2051.0</td>\n",
       "    </tr>\n",
       "  </tbody>\n",
       "</table>\n",
       "</div>"
      ],
      "text/plain": [
       "                  0  Lower_range  Upper_range  Avg_sales_per_year\n",
       "1900_1918     37100         1900         1918              2061.0\n",
       "1919_1929     49360         1919         1929              4936.0\n",
       "1930_1939     76320         1930         1939              8480.0\n",
       "1945_1954     28990         1945         1954              3221.0\n",
       "1955_1964     34230         1955         1964              3803.0\n",
       "1965_1972     43960         1965         1972              6280.0\n",
       "1973_1982     34050         1973         1982              3783.0\n",
       "1983_1992     17510         1983         1992              1946.0\n",
       "1993_1999     14720         1993         1999              2453.0\n",
       "2000_2009     27510         2000         2009              3057.0\n",
       "2010_Present  20510         2010         2020              2051.0"
      ]
     },
     "execution_count": 48,
     "metadata": {},
     "output_type": "execute_result"
    }
   ],
   "source": [
    "#Exclude Pre-1900 sales as we can't get sales/yr\n",
    "df_sales = df_sales[df_sales.index != 'Pre_1900'] \n",
    "df_sales['Lower_range'] = [1900,1919,1930,1945,1955,1965,1973,1983,1993,2000,2010]\n",
    "df_sales['Upper_range'] = [1918,1929,1939,1954,1964,1972,1982,1992,1999,2009,2020]\n",
    "df_sales['Avg_sales_per_year'] = round(df_sales[0]/(df_sales['Upper_range'] - df_sales['Lower_range']),0)\n",
    "df_sales"
   ]
  },
  {
   "cell_type": "code",
   "execution_count": 49,
   "id": "f30bed0d",
   "metadata": {},
   "outputs": [
    {
     "data": {
      "image/png": "[encoded data removed]",
      "text/plain": [
       "<Figure size 1350x900 with 1 Axes>"
      ]
     },
     "metadata": {},
     "output_type": "display_data"
    }
   ],
   "source": [
    "# Initializes a new figure for the plot with specified parameters like size, dots per inch, and background color.\n",
    "figure(num=None, figsize=(15, 10), dpi=90, facecolor='w', edgecolor='k')\n",
    "\n",
    "# Extracts the index values (presumably representing years) from the DataFrame df_sales.\n",
    "# Extracts the values from the 'Avg_sales_per_year' column, representing the average number of properties built per year.\n",
    "X = df_sales.index.values\n",
    "Y = df_sales['Avg_sales_per_year']\n",
    "\n",
    "# Plots the data using a green line. The x-axis represents the years\n",
    "# The y-axis represents the average number of properties built per year.\n",
    "plt.plot(X, Y, color='g')\n",
    "plt.ylabel('Average number of properties built per year')\n",
    "plt.xlabel('Year Range')\n",
    "\n",
    "plt.show()"
   ]
  },
  {
   "cell_type": "markdown",
   "id": "1847c15a",
   "metadata": {},
   "source": [
    "The graph indicates fluctuations in property construction over time. Notable points include a peak around 1930-1939 with 8480 properties, a post-war dip in the mid-1940s, and a gradual increase from 1955-1964. The data suggests variations in housing development trends, providing insights into historical patterns and potential influencing factors"
   ]
  },
  {
   "cell_type": "code",
   "execution_count": null,
   "id": "e0b1ba54",
   "metadata": {},
   "outputs": [],
   "source": [
    " "
   ]
  }
 ],
 "metadata": {
  "kernelspec": {
   "display_name": "Python 3 (ipykernel)",
   "language": "python",
   "name": "python3"
  },
  "language_info": {
   "codemirror_mode": {
    "name": "ipython",
    "version": 3
   },
   "file_extension": ".py",
   "mimetype": "text/x-python",
   "name": "python",
   "nbconvert_exporter": "python",
   "pygments_lexer": "ipython3",
   "version": "3.9.12"
  }
 },
 "nbformat": 4,
 "nbformat_minor": 5
}
